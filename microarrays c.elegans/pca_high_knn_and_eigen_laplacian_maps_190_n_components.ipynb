{
  "cells": [
    {
      "cell_type": "code",
      "execution_count": 1,
      "metadata": {
        "colab": {
          "base_uri": "https://localhost:8080/"
        },
        "id": "fxhpEIHVuDdz",
        "outputId": "b6d8b345-c194-4e13-81de-13c1a8657ea2"
      },
      "outputs": [
        {
          "output_type": "stream",
          "name": "stdout",
          "text": [
            "Mounted at /content/drive\n"
          ]
        }
      ],
      "source": [
        "from google.colab import drive\n",
        "drive.mount('/content/drive')"
      ]
    },
    {
      "cell_type": "code",
      "execution_count": 2,
      "metadata": {
        "colab": {
          "base_uri": "https://localhost:8080/"
        },
        "id": "Ru9JX0mMtOE_",
        "outputId": "587a9a8b-c338-43b7-cbfe-9597b07bf6f7"
      },
      "outputs": [
        {
          "output_type": "stream",
          "name": "stdout",
          "text": [
            "Collecting umap-learn\n",
            "  Downloading umap_learn-0.5.6-py3-none-any.whl (85 kB)\n",
            "\u001b[?25l     \u001b[90m━━━━━━━━━━━━━━━━━━━━━━━━━━━━━━━━━━━━━━━━\u001b[0m \u001b[32m0.0/85.7 kB\u001b[0m \u001b[31m?\u001b[0m eta \u001b[36m-:--:--\u001b[0m\r\u001b[2K     \u001b[91m━━━━━━━━━━━━━━━━━━━━━━━━━━━━━━━━━━━━━━\u001b[0m\u001b[90m╺\u001b[0m\u001b[90m━\u001b[0m \u001b[32m81.9/85.7 kB\u001b[0m \u001b[31m2.2 MB/s\u001b[0m eta \u001b[36m0:00:01\u001b[0m\r\u001b[2K     \u001b[90m━━━━━━━━━━━━━━━━━━━━━━━━━━━━━━━━━━━━━━━━\u001b[0m \u001b[32m85.7/85.7 kB\u001b[0m \u001b[31m1.9 MB/s\u001b[0m eta \u001b[36m0:00:00\u001b[0m\n",
            "\u001b[?25hCollecting magic-impute\n",
            "  Downloading magic_impute-3.0.0-py3-none-any.whl (15 kB)\n",
            "Requirement already satisfied: numpy>=1.17 in /usr/local/lib/python3.10/dist-packages (from umap-learn) (1.25.2)\n",
            "Requirement already satisfied: scipy>=1.3.1 in /usr/local/lib/python3.10/dist-packages (from umap-learn) (1.11.4)\n",
            "Requirement already satisfied: scikit-learn>=0.22 in /usr/local/lib/python3.10/dist-packages (from umap-learn) (1.2.2)\n",
            "Requirement already satisfied: numba>=0.51.2 in /usr/local/lib/python3.10/dist-packages (from umap-learn) (0.58.1)\n",
            "Collecting pynndescent>=0.5 (from umap-learn)\n",
            "  Downloading pynndescent-0.5.12-py3-none-any.whl (56 kB)\n",
            "\u001b[2K     \u001b[90m━━━━━━━━━━━━━━━━━━━━━━━━━━━━━━━━━━━━━━━━\u001b[0m \u001b[32m56.8/56.8 kB\u001b[0m \u001b[31m6.1 MB/s\u001b[0m eta \u001b[36m0:00:00\u001b[0m\n",
            "\u001b[?25hRequirement already satisfied: tqdm in /usr/local/lib/python3.10/dist-packages (from umap-learn) (4.66.4)\n",
            "Requirement already satisfied: matplotlib in /usr/local/lib/python3.10/dist-packages (from magic-impute) (3.7.1)\n",
            "Requirement already satisfied: future in /usr/local/lib/python3.10/dist-packages (from magic-impute) (0.18.3)\n",
            "Collecting tasklogger>=1.0.0 (from magic-impute)\n",
            "  Downloading tasklogger-1.2.0-py3-none-any.whl (14 kB)\n",
            "Collecting graphtools>=1.4.0 (from magic-impute)\n",
            "  Downloading graphtools-1.5.3-py3-none-any.whl (45 kB)\n",
            "\u001b[2K     \u001b[90m━━━━━━━━━━━━━━━━━━━━━━━━━━━━━━━━━━━━━━━━\u001b[0m \u001b[32m45.4/45.4 kB\u001b[0m \u001b[31m1.7 MB/s\u001b[0m eta \u001b[36m0:00:00\u001b[0m\n",
            "\u001b[?25hRequirement already satisfied: pandas>=0.25 in /usr/local/lib/python3.10/dist-packages (from magic-impute) (2.0.3)\n",
            "Collecting scprep>=1.0 (from magic-impute)\n",
            "  Downloading scprep-1.2.3-py3-none-any.whl (94 kB)\n",
            "\u001b[2K     \u001b[90m━━━━━━━━━━━━━━━━━━━━━━━━━━━━━━━━━━━━━━━━\u001b[0m \u001b[32m94.1/94.1 kB\u001b[0m \u001b[31m7.1 MB/s\u001b[0m eta \u001b[36m0:00:00\u001b[0m\n",
            "\u001b[?25hCollecting pygsp>=0.5.1 (from graphtools>=1.4.0->magic-impute)\n",
            "  Downloading PyGSP-0.5.1-py2.py3-none-any.whl (1.8 MB)\n",
            "\u001b[2K     \u001b[90m━━━━━━━━━━━━━━━━━━━━━━━━━━━━━━━━━━━━━━━━\u001b[0m \u001b[32m1.8/1.8 MB\u001b[0m \u001b[31m9.7 MB/s\u001b[0m eta \u001b[36m0:00:00\u001b[0m\n",
            "\u001b[?25hCollecting Deprecated (from graphtools>=1.4.0->magic-impute)\n",
            "  Downloading Deprecated-1.2.14-py2.py3-none-any.whl (9.6 kB)\n",
            "Requirement already satisfied: llvmlite<0.42,>=0.41.0dev0 in /usr/local/lib/python3.10/dist-packages (from numba>=0.51.2->umap-learn) (0.41.1)\n",
            "Requirement already satisfied: python-dateutil>=2.8.2 in /usr/local/lib/python3.10/dist-packages (from pandas>=0.25->magic-impute) (2.8.2)\n",
            "Requirement already satisfied: pytz>=2020.1 in /usr/local/lib/python3.10/dist-packages (from pandas>=0.25->magic-impute) (2023.4)\n",
            "Requirement already satisfied: tzdata>=2022.1 in /usr/local/lib/python3.10/dist-packages (from pandas>=0.25->magic-impute) (2024.1)\n",
            "Requirement already satisfied: joblib>=0.11 in /usr/local/lib/python3.10/dist-packages (from pynndescent>=0.5->umap-learn) (1.4.2)\n",
            "Requirement already satisfied: threadpoolctl>=2.0.0 in /usr/local/lib/python3.10/dist-packages (from scikit-learn>=0.22->umap-learn) (3.5.0)\n",
            "Requirement already satisfied: decorator>=4.3.0 in /usr/local/lib/python3.10/dist-packages (from scprep>=1.0->magic-impute) (4.4.2)\n",
            "Requirement already satisfied: packaging in /usr/local/lib/python3.10/dist-packages (from scprep>=1.0->magic-impute) (24.0)\n",
            "Requirement already satisfied: contourpy>=1.0.1 in /usr/local/lib/python3.10/dist-packages (from matplotlib->magic-impute) (1.2.1)\n",
            "Requirement already satisfied: cycler>=0.10 in /usr/local/lib/python3.10/dist-packages (from matplotlib->magic-impute) (0.12.1)\n",
            "Requirement already satisfied: fonttools>=4.22.0 in /usr/local/lib/python3.10/dist-packages (from matplotlib->magic-impute) (4.51.0)\n",
            "Requirement already satisfied: kiwisolver>=1.0.1 in /usr/local/lib/python3.10/dist-packages (from matplotlib->magic-impute) (1.4.5)\n",
            "Requirement already satisfied: pillow>=6.2.0 in /usr/local/lib/python3.10/dist-packages (from matplotlib->magic-impute) (9.4.0)\n",
            "Requirement already satisfied: pyparsing>=2.3.1 in /usr/local/lib/python3.10/dist-packages (from matplotlib->magic-impute) (3.1.2)\n",
            "Requirement already satisfied: six>=1.5 in /usr/local/lib/python3.10/dist-packages (from python-dateutil>=2.8.2->pandas>=0.25->magic-impute) (1.16.0)\n",
            "Requirement already satisfied: wrapt<2,>=1.10 in /usr/local/lib/python3.10/dist-packages (from Deprecated->graphtools>=1.4.0->magic-impute) (1.14.1)\n",
            "Installing collected packages: Deprecated, tasklogger, pygsp, scprep, pynndescent, graphtools, umap-learn, magic-impute\n",
            "Successfully installed Deprecated-1.2.14 graphtools-1.5.3 magic-impute-3.0.0 pygsp-0.5.1 pynndescent-0.5.12 scprep-1.2.3 tasklogger-1.2.0 umap-learn-0.5.6\n",
            "Requirement already satisfied: scprep in /usr/local/lib/python3.10/dist-packages (1.2.3)\n",
            "Requirement already satisfied: umap-learn in /usr/local/lib/python3.10/dist-packages (0.5.6)\n",
            "Requirement already satisfied: magic-impute in /usr/local/lib/python3.10/dist-packages (3.0.0)\n",
            "Requirement already satisfied: numpy>=1.12.0 in /usr/local/lib/python3.10/dist-packages (from scprep) (1.25.2)\n",
            "Requirement already satisfied: scipy>=0.18.1 in /usr/local/lib/python3.10/dist-packages (from scprep) (1.11.4)\n",
            "Requirement already satisfied: scikit-learn>=0.19.1 in /usr/local/lib/python3.10/dist-packages (from scprep) (1.2.2)\n",
            "Requirement already satisfied: decorator>=4.3.0 in /usr/local/lib/python3.10/dist-packages (from scprep) (4.4.2)\n",
            "Requirement already satisfied: pandas<2.1,>=0.25 in /usr/local/lib/python3.10/dist-packages (from scprep) (2.0.3)\n",
            "Requirement already satisfied: packaging in /usr/local/lib/python3.10/dist-packages (from scprep) (24.0)\n",
            "Requirement already satisfied: numba>=0.51.2 in /usr/local/lib/python3.10/dist-packages (from umap-learn) (0.58.1)\n",
            "Requirement already satisfied: pynndescent>=0.5 in /usr/local/lib/python3.10/dist-packages (from umap-learn) (0.5.12)\n",
            "Requirement already satisfied: tqdm in /usr/local/lib/python3.10/dist-packages (from umap-learn) (4.66.4)\n",
            "Requirement already satisfied: matplotlib in /usr/local/lib/python3.10/dist-packages (from magic-impute) (3.7.1)\n",
            "Requirement already satisfied: future in /usr/local/lib/python3.10/dist-packages (from magic-impute) (0.18.3)\n",
            "Requirement already satisfied: tasklogger>=1.0.0 in /usr/local/lib/python3.10/dist-packages (from magic-impute) (1.2.0)\n",
            "Requirement already satisfied: graphtools>=1.4.0 in /usr/local/lib/python3.10/dist-packages (from magic-impute) (1.5.3)\n",
            "Requirement already satisfied: pygsp>=0.5.1 in /usr/local/lib/python3.10/dist-packages (from graphtools>=1.4.0->magic-impute) (0.5.1)\n",
            "Requirement already satisfied: Deprecated in /usr/local/lib/python3.10/dist-packages (from graphtools>=1.4.0->magic-impute) (1.2.14)\n",
            "Requirement already satisfied: llvmlite<0.42,>=0.41.0dev0 in /usr/local/lib/python3.10/dist-packages (from numba>=0.51.2->umap-learn) (0.41.1)\n",
            "Requirement already satisfied: python-dateutil>=2.8.2 in /usr/local/lib/python3.10/dist-packages (from pandas<2.1,>=0.25->scprep) (2.8.2)\n",
            "Requirement already satisfied: pytz>=2020.1 in /usr/local/lib/python3.10/dist-packages (from pandas<2.1,>=0.25->scprep) (2023.4)\n",
            "Requirement already satisfied: tzdata>=2022.1 in /usr/local/lib/python3.10/dist-packages (from pandas<2.1,>=0.25->scprep) (2024.1)\n",
            "Requirement already satisfied: joblib>=0.11 in /usr/local/lib/python3.10/dist-packages (from pynndescent>=0.5->umap-learn) (1.4.2)\n",
            "Requirement already satisfied: threadpoolctl>=2.0.0 in /usr/local/lib/python3.10/dist-packages (from scikit-learn>=0.19.1->scprep) (3.5.0)\n",
            "Requirement already satisfied: contourpy>=1.0.1 in /usr/local/lib/python3.10/dist-packages (from matplotlib->magic-impute) (1.2.1)\n",
            "Requirement already satisfied: cycler>=0.10 in /usr/local/lib/python3.10/dist-packages (from matplotlib->magic-impute) (0.12.1)\n",
            "Requirement already satisfied: fonttools>=4.22.0 in /usr/local/lib/python3.10/dist-packages (from matplotlib->magic-impute) (4.51.0)\n",
            "Requirement already satisfied: kiwisolver>=1.0.1 in /usr/local/lib/python3.10/dist-packages (from matplotlib->magic-impute) (1.4.5)\n",
            "Requirement already satisfied: pillow>=6.2.0 in /usr/local/lib/python3.10/dist-packages (from matplotlib->magic-impute) (9.4.0)\n",
            "Requirement already satisfied: pyparsing>=2.3.1 in /usr/local/lib/python3.10/dist-packages (from matplotlib->magic-impute) (3.1.2)\n",
            "Requirement already satisfied: six>=1.5 in /usr/local/lib/python3.10/dist-packages (from python-dateutil>=2.8.2->pandas<2.1,>=0.25->scprep) (1.16.0)\n",
            "Requirement already satisfied: wrapt<2,>=1.10 in /usr/local/lib/python3.10/dist-packages (from Deprecated->graphtools>=1.4.0->magic-impute) (1.14.1)\n",
            "Collecting s-gd2==1.7\n",
            "  Downloading s_gd2-1.7.tar.gz (53 kB)\n",
            "\u001b[2K     \u001b[90m━━━━━━━━━━━━━━━━━━━━━━━━━━━━━━━━━━━━━━━━\u001b[0m \u001b[32m53.4/53.4 kB\u001b[0m \u001b[31m2.0 MB/s\u001b[0m eta \u001b[36m0:00:00\u001b[0m\n",
            "\u001b[?25h  Preparing metadata (setup.py) ... \u001b[?25l\u001b[?25hdone\n",
            "Requirement already satisfied: numpy>=1.16 in /usr/local/lib/python3.10/dist-packages (from s-gd2==1.7) (1.25.2)\n",
            "Building wheels for collected packages: s-gd2\n",
            "  Building wheel for s-gd2 (setup.py) ... \u001b[?25l\u001b[?25hdone\n",
            "  Created wheel for s-gd2: filename=s_gd2-1.7-cp310-cp310-linux_x86_64.whl size=537553 sha256=67fb8ae055127ed17dd2709fc321e3f74f9131a63f9ae2733d92bdf25e24b453\n",
            "  Stored in directory: /root/.cache/pip/wheels/01/22/1b/8ad6ccdf7a37dbdd2a19afd4958d3b00516c88de69e5860f2d\n",
            "Successfully built s-gd2\n",
            "Installing collected packages: s-gd2\n",
            "Successfully installed s-gd2-1.7\n",
            "drive  sample_data  sc_PHENIX.py\n"
          ]
        }
      ],
      "source": [
        "#Install  UMAP and MAGIC for comparison\n",
        "!pip install umap-learn magic-impute\n",
        "!pip install scprep umap-learn magic-impute\n",
        "#you need to install s_gd2 https://github.com/jxz12/s_gd2 #this is version (s-gd2==1.7) is stable\n",
        "!pip install s-gd2==1.7\n",
        "import requests\n",
        "import os\n",
        "import urllib.request\n",
        "url_sc_phenix = 'https://raw.githubusercontent.com/resendislab/sc-PHENIX/main/sc-PHENIX%20tutorial%20colab/sc_PHENIX.py'\n",
        "urllib.request.urlretrieve(url_sc_phenix, 'sc_PHENIX.py')\n",
        "os.listdir()\n",
        "!cd /content\n",
        "!ls\n",
        "\n",
        "\n",
        "\n",
        "\n"
      ]
    },
    {
      "cell_type": "markdown",
      "metadata": {
        "id": "MjHckofOvLYc"
      },
      "source": [
        "# Data"
      ]
    },
    {
      "cell_type": "code",
      "execution_count": 3,
      "metadata": {
        "id": "pbA9GwdxvKMU"
      },
      "outputs": [],
      "source": [
        "import pandas as pd\n",
        "import umap\n",
        "import scprep\n",
        "import numpy as np\n",
        "import pandas as pd\n",
        "import seaborn as sns\n",
        "import matplotlib.pyplot as plt\n",
        "from scipy import stats\n",
        "# Datos originales de microarreglos del desarrollo de C. Elegans\n",
        "\n",
        "TrueEXpre = scprep.io.load_csv('/content/drive/MyDrive/Cristian Padrón/viernes 30 de oct/Supplementary_table_1.csv',cell_axis= 'row')\n",
        "TrueEXpre = np.exp(TrueEXpre)\n",
        "\n",
        "TrueEXpre = TrueEXpre.T"
      ]
    },
    {
      "cell_type": "code",
      "execution_count": 4,
      "metadata": {
        "id": "J2nhxhagubkZ"
      },
      "outputs": [],
      "source": [
        "import pandas as pd\n",
        "import numpy as np\n",
        "\n",
        "def insertar_ceros_aleatorios(df, porcentaje=10, semilla=42):\n",
        "    \"\"\"\n",
        "    Inserta ceros de manera aleatoria en un DataFrame basado en un porcentaje especificado y es reproducible por una semilla.\n",
        "\n",
        "    Parámetros:\n",
        "    df (pd.DataFrame): DataFrame original.\n",
        "    porcentaje (int, opcional): Porcentaje de ceros a insertar. Por defecto es 10%.\n",
        "    semilla (int, opcional): Semilla para el generador de números aleatorios. Por defecto es 42.\n",
        "\n",
        "    Retorna:\n",
        "    pd.DataFrame: DataFrame con ceros insertados aleatoriamente y reproducibilidad garantizada.\n",
        "    \"\"\"\n",
        "    # Fijar la semilla del generador de números aleatorios para reproducibilidad\n",
        "    np.random.seed(semilla)\n",
        "\n",
        "    # Calcular el número total de elementos en el DataFrame\n",
        "    total_elementos = df.size\n",
        "\n",
        "    # Calcular el número de elementos a cambiar a cero\n",
        "    num_ceros = int(total_elementos * (porcentaje / 100))\n",
        "\n",
        "    # Generar pares de índices únicos\n",
        "    indices = np.random.choice(total_elementos, num_ceros, replace=False)\n",
        "    indices_fila = indices // df.shape[1]\n",
        "    indices_columna = indices % df.shape[1]\n",
        "\n",
        "    # Crear una copia del DataFrame para modificar\n",
        "    df_modificado = df.copy()\n",
        "\n",
        "    # Insertar ceros en los índices seleccionados\n",
        "    df_modificado.values[indices_fila, indices_columna] = 0\n",
        "\n",
        "    return df_modificado\n"
      ]
    },
    {
      "cell_type": "code",
      "execution_count": null,
      "metadata": {
        "id": "z5O4dQIYujrn"
      },
      "outputs": [],
      "source": [
        "#dropout = insertar_ceros_aleatorios(TrueEXpre,porcentaje=60,  semilla=62)"
      ]
    },
    {
      "cell_type": "markdown",
      "metadata": {
        "id": "yY9jPpuafHNk"
      },
      "source": [
        "# run_analysis(real=TrueEXpre, porcentaje=80, seed=62, t=5, knn=5, decay=5, npca_range=range(1, 200)\n",
        "\n",
        "\n",
        "\n",
        "```python\n",
        "import magic\n",
        "\n",
        "magic_operator = magic.MAGIC(n_pca=param_value, t=t, knn=knn, decay=decay, random_state=1)\n",
        "imputed_magic = magic_operator.fit_transform(dropout)\n",
        "\n",
        "from sc_PHENIX import run_pca, sc_PHENIX\n",
        "\n",
        "pca_data = run_pca(dropout, n_components=param_value, random_state=1)\n",
        "umap_fit = umap.UMAP(n_components=30,n_epochs=3000,n_neighbors=220,negative_sample_rate=100,metric='cosine', random_state=1)\n",
        "imputed_phenix = sc_PHENIX(dropout, u_no_3, t=t, knn=knn, decay=decay)\n"
      ]
    },
    {
      "cell_type": "code",
      "execution_count": 17,
      "metadata": {
        "colab": {
          "base_uri": "https://localhost:8080/",
          "height": 1000
        },
        "id": "YWa-8hXZvq5-",
        "outputId": "85470b4b-111f-4c47-a526-5b5896199882"
      },
      "outputs": [
        {
          "output_type": "stream",
          "name": "stderr",
          "text": [
            "\rProcessing KNN values:   0%|          | 0/95 [00:00<?, ?it/s]/usr/local/lib/python3.10/dist-packages/umap/umap_.py:1945: UserWarning: n_jobs value 1 overridden to 1 by setting random_state. Use no seed for parallelism.\n",
            "  warn(f\"n_jobs value {self.n_jobs} overridden to 1 by setting random_state. Use no seed for parallelism.\")\n",
            "/usr/local/lib/python3.10/dist-packages/umap/umap_.py:2437: UserWarning: n_neighbors is larger than the dataset size; truncating to X.shape[0] - 1\n",
            "  warn(\n"
          ]
        },
        {
          "output_type": "stream",
          "name": "stdout",
          "text": [
            "calculando distancias\n",
            "(206, 206)\n",
            "done distance matrix\n",
            "knn\n",
            " knn done\n",
            " afinity matrix\n",
            " afinity matrix done\n",
            "imputation\n",
            "done\n",
            "done Mon May 20 20:15:38 2024\n"
          ]
        },
        {
          "output_type": "stream",
          "name": "stderr",
          "text": [
            "\rProcessing KNN values:   1%|          | 1/95 [00:06<09:51,  6.30s/it]/usr/local/lib/python3.10/dist-packages/umap/umap_.py:1945: UserWarning: n_jobs value 1 overridden to 1 by setting random_state. Use no seed for parallelism.\n",
            "  warn(f\"n_jobs value {self.n_jobs} overridden to 1 by setting random_state. Use no seed for parallelism.\")\n",
            "/usr/local/lib/python3.10/dist-packages/umap/umap_.py:2437: UserWarning: n_neighbors is larger than the dataset size; truncating to X.shape[0] - 1\n",
            "  warn(\n"
          ]
        },
        {
          "output_type": "stream",
          "name": "stdout",
          "text": [
            "calculando distancias\n",
            "(206, 206)\n",
            "done distance matrix\n",
            "knn\n",
            " knn done\n",
            " afinity matrix\n",
            " afinity matrix done\n",
            "imputation\n",
            "done\n",
            "done Mon May 20 20:15:43 2024\n"
          ]
        },
        {
          "output_type": "stream",
          "name": "stderr",
          "text": [
            "\rProcessing KNN values:   2%|▏         | 2/95 [00:11<08:55,  5.76s/it]/usr/local/lib/python3.10/dist-packages/umap/umap_.py:1945: UserWarning: n_jobs value 1 overridden to 1 by setting random_state. Use no seed for parallelism.\n",
            "  warn(f\"n_jobs value {self.n_jobs} overridden to 1 by setting random_state. Use no seed for parallelism.\")\n",
            "/usr/local/lib/python3.10/dist-packages/umap/umap_.py:2437: UserWarning: n_neighbors is larger than the dataset size; truncating to X.shape[0] - 1\n",
            "  warn(\n"
          ]
        },
        {
          "output_type": "stream",
          "name": "stdout",
          "text": [
            "calculando distancias\n",
            "(206, 206)\n",
            "done distance matrix\n",
            "knn\n",
            " knn done\n",
            " afinity matrix\n",
            " afinity matrix done\n",
            "imputation\n",
            "done\n",
            "done Mon May 20 20:15:52 2024\n"
          ]
        },
        {
          "output_type": "stream",
          "name": "stderr",
          "text": [
            "\rProcessing KNN values:   3%|▎         | 3/95 [00:20<11:04,  7.22s/it]/usr/local/lib/python3.10/dist-packages/umap/umap_.py:1945: UserWarning: n_jobs value 1 overridden to 1 by setting random_state. Use no seed for parallelism.\n",
            "  warn(f\"n_jobs value {self.n_jobs} overridden to 1 by setting random_state. Use no seed for parallelism.\")\n",
            "/usr/local/lib/python3.10/dist-packages/umap/umap_.py:2437: UserWarning: n_neighbors is larger than the dataset size; truncating to X.shape[0] - 1\n",
            "  warn(\n"
          ]
        },
        {
          "output_type": "stream",
          "name": "stdout",
          "text": [
            "calculando distancias\n",
            "(206, 206)\n",
            "done distance matrix\n",
            "knn\n",
            " knn done\n",
            " afinity matrix\n",
            " afinity matrix done\n",
            "imputation\n",
            "done\n",
            "done Mon May 20 20:15:57 2024\n"
          ]
        },
        {
          "output_type": "stream",
          "name": "stderr",
          "text": [
            "\rProcessing KNN values:   4%|▍         | 4/95 [00:25<09:25,  6.21s/it]/usr/local/lib/python3.10/dist-packages/umap/umap_.py:1945: UserWarning: n_jobs value 1 overridden to 1 by setting random_state. Use no seed for parallelism.\n",
            "  warn(f\"n_jobs value {self.n_jobs} overridden to 1 by setting random_state. Use no seed for parallelism.\")\n",
            "/usr/local/lib/python3.10/dist-packages/umap/umap_.py:2437: UserWarning: n_neighbors is larger than the dataset size; truncating to X.shape[0] - 1\n",
            "  warn(\n"
          ]
        },
        {
          "output_type": "stream",
          "name": "stdout",
          "text": [
            "calculando distancias\n",
            "(206, 206)\n",
            "done distance matrix\n",
            "knn\n",
            " knn done\n",
            " afinity matrix\n",
            " afinity matrix done\n",
            "imputation\n",
            "done\n",
            "done Mon May 20 20:16:02 2024\n"
          ]
        },
        {
          "output_type": "stream",
          "name": "stderr",
          "text": [
            "\rProcessing KNN values:   5%|▌         | 5/95 [00:30<08:47,  5.86s/it]/usr/local/lib/python3.10/dist-packages/umap/umap_.py:1945: UserWarning: n_jobs value 1 overridden to 1 by setting random_state. Use no seed for parallelism.\n",
            "  warn(f\"n_jobs value {self.n_jobs} overridden to 1 by setting random_state. Use no seed for parallelism.\")\n",
            "/usr/local/lib/python3.10/dist-packages/umap/umap_.py:2437: UserWarning: n_neighbors is larger than the dataset size; truncating to X.shape[0] - 1\n",
            "  warn(\n"
          ]
        },
        {
          "output_type": "stream",
          "name": "stdout",
          "text": [
            "calculando distancias\n",
            "(206, 206)\n",
            "done distance matrix\n",
            "knn\n",
            " knn done\n",
            " afinity matrix\n",
            " afinity matrix done\n",
            "imputation\n",
            "done\n",
            "done Mon May 20 20:16:07 2024\n"
          ]
        },
        {
          "output_type": "stream",
          "name": "stderr",
          "text": [
            "\rProcessing KNN values:   6%|▋         | 6/95 [00:35<08:18,  5.60s/it]/usr/local/lib/python3.10/dist-packages/umap/umap_.py:1945: UserWarning: n_jobs value 1 overridden to 1 by setting random_state. Use no seed for parallelism.\n",
            "  warn(f\"n_jobs value {self.n_jobs} overridden to 1 by setting random_state. Use no seed for parallelism.\")\n",
            "/usr/local/lib/python3.10/dist-packages/umap/umap_.py:2437: UserWarning: n_neighbors is larger than the dataset size; truncating to X.shape[0] - 1\n",
            "  warn(\n"
          ]
        },
        {
          "output_type": "stream",
          "name": "stdout",
          "text": [
            "calculando distancias\n",
            "(206, 206)\n",
            "done distance matrix\n",
            "knn\n",
            " knn done\n",
            " afinity matrix\n",
            " afinity matrix done\n",
            "imputation\n",
            "done\n",
            "done Mon May 20 20:16:12 2024\n"
          ]
        },
        {
          "output_type": "stream",
          "name": "stderr",
          "text": [
            "\rProcessing KNN values:   7%|▋         | 7/95 [00:40<07:45,  5.29s/it]/usr/local/lib/python3.10/dist-packages/umap/umap_.py:1945: UserWarning: n_jobs value 1 overridden to 1 by setting random_state. Use no seed for parallelism.\n",
            "  warn(f\"n_jobs value {self.n_jobs} overridden to 1 by setting random_state. Use no seed for parallelism.\")\n",
            "/usr/local/lib/python3.10/dist-packages/umap/umap_.py:2437: UserWarning: n_neighbors is larger than the dataset size; truncating to X.shape[0] - 1\n",
            "  warn(\n"
          ]
        },
        {
          "output_type": "stream",
          "name": "stdout",
          "text": [
            "calculando distancias\n",
            "(206, 206)\n",
            "done distance matrix\n",
            "knn\n",
            " knn done\n",
            " afinity matrix\n",
            " afinity matrix done\n",
            "imputation\n",
            "done\n",
            "done Mon May 20 20:16:17 2024\n"
          ]
        },
        {
          "output_type": "stream",
          "name": "stderr",
          "text": [
            "\rProcessing KNN values:   8%|▊         | 8/95 [00:45<07:45,  5.35s/it]/usr/local/lib/python3.10/dist-packages/umap/umap_.py:1945: UserWarning: n_jobs value 1 overridden to 1 by setting random_state. Use no seed for parallelism.\n",
            "  warn(f\"n_jobs value {self.n_jobs} overridden to 1 by setting random_state. Use no seed for parallelism.\")\n",
            "/usr/local/lib/python3.10/dist-packages/umap/umap_.py:2437: UserWarning: n_neighbors is larger than the dataset size; truncating to X.shape[0] - 1\n",
            "  warn(\n"
          ]
        },
        {
          "output_type": "stream",
          "name": "stdout",
          "text": [
            "calculando distancias\n",
            "(206, 206)\n",
            "done distance matrix\n",
            "knn\n",
            " knn done\n",
            " afinity matrix\n",
            " afinity matrix done\n",
            "imputation\n",
            "done\n",
            "done Mon May 20 20:16:23 2024\n"
          ]
        },
        {
          "output_type": "stream",
          "name": "stderr",
          "text": [
            "\rProcessing KNN values:   9%|▉         | 9/95 [00:51<07:39,  5.34s/it]/usr/local/lib/python3.10/dist-packages/umap/umap_.py:1945: UserWarning: n_jobs value 1 overridden to 1 by setting random_state. Use no seed for parallelism.\n",
            "  warn(f\"n_jobs value {self.n_jobs} overridden to 1 by setting random_state. Use no seed for parallelism.\")\n",
            "/usr/local/lib/python3.10/dist-packages/umap/umap_.py:2437: UserWarning: n_neighbors is larger than the dataset size; truncating to X.shape[0] - 1\n",
            "  warn(\n"
          ]
        },
        {
          "output_type": "stream",
          "name": "stdout",
          "text": [
            "calculando distancias\n",
            "(206, 206)\n",
            "done distance matrix\n",
            "knn\n",
            " knn done\n",
            " afinity matrix\n",
            " afinity matrix done\n",
            "imputation\n",
            "done\n",
            "done Mon May 20 20:16:27 2024\n"
          ]
        },
        {
          "output_type": "stream",
          "name": "stderr",
          "text": [
            "\rProcessing KNN values:  11%|█         | 10/95 [00:55<07:15,  5.12s/it]/usr/local/lib/python3.10/dist-packages/umap/umap_.py:1945: UserWarning: n_jobs value 1 overridden to 1 by setting random_state. Use no seed for parallelism.\n",
            "  warn(f\"n_jobs value {self.n_jobs} overridden to 1 by setting random_state. Use no seed for parallelism.\")\n",
            "/usr/local/lib/python3.10/dist-packages/umap/umap_.py:2437: UserWarning: n_neighbors is larger than the dataset size; truncating to X.shape[0] - 1\n",
            "  warn(\n"
          ]
        },
        {
          "output_type": "stream",
          "name": "stdout",
          "text": [
            "calculando distancias\n",
            "(206, 206)\n",
            "done distance matrix\n",
            "knn\n",
            " knn done\n",
            " afinity matrix\n",
            " afinity matrix done\n",
            "imputation\n",
            "done\n",
            "done Mon May 20 20:16:34 2024\n"
          ]
        },
        {
          "output_type": "stream",
          "name": "stderr",
          "text": [
            "\rProcessing KNN values:  12%|█▏        | 11/95 [01:02<07:50,  5.60s/it]/usr/local/lib/python3.10/dist-packages/umap/umap_.py:1945: UserWarning: n_jobs value 1 overridden to 1 by setting random_state. Use no seed for parallelism.\n",
            "  warn(f\"n_jobs value {self.n_jobs} overridden to 1 by setting random_state. Use no seed for parallelism.\")\n",
            "/usr/local/lib/python3.10/dist-packages/umap/umap_.py:2437: UserWarning: n_neighbors is larger than the dataset size; truncating to X.shape[0] - 1\n",
            "  warn(\n"
          ]
        },
        {
          "output_type": "stream",
          "name": "stdout",
          "text": [
            "calculando distancias\n",
            "(206, 206)\n",
            "done distance matrix\n",
            "knn\n",
            " knn done\n",
            " afinity matrix\n",
            " afinity matrix done\n",
            "imputation\n",
            "done\n",
            "done Mon May 20 20:16:38 2024\n"
          ]
        },
        {
          "output_type": "stream",
          "name": "stderr",
          "text": [
            "\rProcessing KNN values:  13%|█▎        | 12/95 [01:06<07:16,  5.26s/it]/usr/local/lib/python3.10/dist-packages/umap/umap_.py:1945: UserWarning: n_jobs value 1 overridden to 1 by setting random_state. Use no seed for parallelism.\n",
            "  warn(f\"n_jobs value {self.n_jobs} overridden to 1 by setting random_state. Use no seed for parallelism.\")\n",
            "/usr/local/lib/python3.10/dist-packages/umap/umap_.py:2437: UserWarning: n_neighbors is larger than the dataset size; truncating to X.shape[0] - 1\n",
            "  warn(\n"
          ]
        },
        {
          "output_type": "stream",
          "name": "stdout",
          "text": [
            "calculando distancias\n",
            "(206, 206)\n",
            "done distance matrix\n",
            "knn\n",
            " knn done\n",
            " afinity matrix\n",
            " afinity matrix done\n",
            "imputation\n",
            "done\n",
            "done Mon May 20 20:16:44 2024\n"
          ]
        },
        {
          "output_type": "stream",
          "name": "stderr",
          "text": [
            "\rProcessing KNN values:  14%|█▎        | 13/95 [01:12<07:19,  5.36s/it]/usr/local/lib/python3.10/dist-packages/umap/umap_.py:1945: UserWarning: n_jobs value 1 overridden to 1 by setting random_state. Use no seed for parallelism.\n",
            "  warn(f\"n_jobs value {self.n_jobs} overridden to 1 by setting random_state. Use no seed for parallelism.\")\n",
            "/usr/local/lib/python3.10/dist-packages/umap/umap_.py:2437: UserWarning: n_neighbors is larger than the dataset size; truncating to X.shape[0] - 1\n",
            "  warn(\n"
          ]
        },
        {
          "output_type": "stream",
          "name": "stdout",
          "text": [
            "calculando distancias\n",
            "(206, 206)\n",
            "done distance matrix\n",
            "knn\n",
            " knn done\n",
            " afinity matrix\n",
            " afinity matrix done\n",
            "imputation\n",
            "done\n",
            "done Mon May 20 20:16:51 2024\n"
          ]
        },
        {
          "output_type": "stream",
          "name": "stderr",
          "text": [
            "\rProcessing KNN values:  15%|█▍        | 14/95 [01:19<07:48,  5.79s/it]/usr/local/lib/python3.10/dist-packages/umap/umap_.py:1945: UserWarning: n_jobs value 1 overridden to 1 by setting random_state. Use no seed for parallelism.\n",
            "  warn(f\"n_jobs value {self.n_jobs} overridden to 1 by setting random_state. Use no seed for parallelism.\")\n",
            "/usr/local/lib/python3.10/dist-packages/umap/umap_.py:2437: UserWarning: n_neighbors is larger than the dataset size; truncating to X.shape[0] - 1\n",
            "  warn(\n"
          ]
        },
        {
          "output_type": "stream",
          "name": "stdout",
          "text": [
            "calculando distancias\n",
            "(206, 206)\n",
            "done distance matrix\n",
            "knn\n",
            " knn done\n",
            " afinity matrix\n",
            " afinity matrix done\n",
            "imputation\n",
            "done\n",
            "done Mon May 20 20:16:57 2024\n"
          ]
        },
        {
          "output_type": "stream",
          "name": "stderr",
          "text": [
            "\rProcessing KNN values:  16%|█▌        | 15/95 [01:24<07:41,  5.77s/it]/usr/local/lib/python3.10/dist-packages/umap/umap_.py:1945: UserWarning: n_jobs value 1 overridden to 1 by setting random_state. Use no seed for parallelism.\n",
            "  warn(f\"n_jobs value {self.n_jobs} overridden to 1 by setting random_state. Use no seed for parallelism.\")\n",
            "/usr/local/lib/python3.10/dist-packages/umap/umap_.py:2437: UserWarning: n_neighbors is larger than the dataset size; truncating to X.shape[0] - 1\n",
            "  warn(\n"
          ]
        },
        {
          "output_type": "stream",
          "name": "stdout",
          "text": [
            "calculando distancias\n",
            "(206, 206)\n",
            "done distance matrix\n",
            "knn\n",
            " knn done\n",
            " afinity matrix\n",
            " afinity matrix done\n",
            "imputation\n",
            "done\n",
            "done Mon May 20 20:17:02 2024\n"
          ]
        },
        {
          "output_type": "stream",
          "name": "stderr",
          "text": [
            "\rProcessing KNN values:  17%|█▋        | 16/95 [01:30<07:26,  5.65s/it]/usr/local/lib/python3.10/dist-packages/umap/umap_.py:1945: UserWarning: n_jobs value 1 overridden to 1 by setting random_state. Use no seed for parallelism.\n",
            "  warn(f\"n_jobs value {self.n_jobs} overridden to 1 by setting random_state. Use no seed for parallelism.\")\n",
            "/usr/local/lib/python3.10/dist-packages/umap/umap_.py:2437: UserWarning: n_neighbors is larger than the dataset size; truncating to X.shape[0] - 1\n",
            "  warn(\n"
          ]
        },
        {
          "output_type": "stream",
          "name": "stdout",
          "text": [
            "calculando distancias\n",
            "(206, 206)\n",
            "done distance matrix\n",
            "knn\n",
            " knn done\n",
            " afinity matrix\n",
            " afinity matrix done\n",
            "imputation\n",
            "done\n",
            "done Mon May 20 20:17:07 2024\n"
          ]
        },
        {
          "output_type": "stream",
          "name": "stderr",
          "text": [
            "\rProcessing KNN values:  18%|█▊        | 17/95 [01:35<07:04,  5.44s/it]/usr/local/lib/python3.10/dist-packages/umap/umap_.py:1945: UserWarning: n_jobs value 1 overridden to 1 by setting random_state. Use no seed for parallelism.\n",
            "  warn(f\"n_jobs value {self.n_jobs} overridden to 1 by setting random_state. Use no seed for parallelism.\")\n",
            "/usr/local/lib/python3.10/dist-packages/umap/umap_.py:2437: UserWarning: n_neighbors is larger than the dataset size; truncating to X.shape[0] - 1\n",
            "  warn(\n"
          ]
        },
        {
          "output_type": "stream",
          "name": "stdout",
          "text": [
            "calculando distancias\n",
            "(206, 206)\n",
            "done distance matrix\n",
            "knn\n",
            " knn done\n",
            " afinity matrix\n",
            " afinity matrix done\n",
            "imputation\n",
            "done\n",
            "done Mon May 20 20:17:11 2024\n"
          ]
        },
        {
          "output_type": "stream",
          "name": "stderr",
          "text": [
            "\rProcessing KNN values:  19%|█▉        | 18/95 [01:39<06:40,  5.20s/it]/usr/local/lib/python3.10/dist-packages/umap/umap_.py:1945: UserWarning: n_jobs value 1 overridden to 1 by setting random_state. Use no seed for parallelism.\n",
            "  warn(f\"n_jobs value {self.n_jobs} overridden to 1 by setting random_state. Use no seed for parallelism.\")\n",
            "/usr/local/lib/python3.10/dist-packages/umap/umap_.py:2437: UserWarning: n_neighbors is larger than the dataset size; truncating to X.shape[0] - 1\n",
            "  warn(\n"
          ]
        },
        {
          "output_type": "stream",
          "name": "stdout",
          "text": [
            "calculando distancias\n",
            "(206, 206)\n",
            "done distance matrix\n",
            "knn\n",
            " knn done\n",
            " afinity matrix\n",
            " afinity matrix done\n",
            "imputation\n",
            "done\n",
            "done Mon May 20 20:17:17 2024\n"
          ]
        },
        {
          "output_type": "stream",
          "name": "stderr",
          "text": [
            "\rProcessing KNN values:  20%|██        | 19/95 [01:45<06:40,  5.27s/it]/usr/local/lib/python3.10/dist-packages/umap/umap_.py:1945: UserWarning: n_jobs value 1 overridden to 1 by setting random_state. Use no seed for parallelism.\n",
            "  warn(f\"n_jobs value {self.n_jobs} overridden to 1 by setting random_state. Use no seed for parallelism.\")\n",
            "/usr/local/lib/python3.10/dist-packages/umap/umap_.py:2437: UserWarning: n_neighbors is larger than the dataset size; truncating to X.shape[0] - 1\n",
            "  warn(\n"
          ]
        },
        {
          "output_type": "stream",
          "name": "stdout",
          "text": [
            "calculando distancias\n",
            "(206, 206)\n",
            "done distance matrix\n",
            "knn\n",
            " knn done\n",
            " afinity matrix\n",
            " afinity matrix done\n",
            "imputation\n",
            "done\n",
            "done Mon May 20 20:17:22 2024\n"
          ]
        },
        {
          "output_type": "stream",
          "name": "stderr",
          "text": [
            "\rProcessing KNN values:  21%|██        | 20/95 [01:50<06:38,  5.31s/it]/usr/local/lib/python3.10/dist-packages/umap/umap_.py:1945: UserWarning: n_jobs value 1 overridden to 1 by setting random_state. Use no seed for parallelism.\n",
            "  warn(f\"n_jobs value {self.n_jobs} overridden to 1 by setting random_state. Use no seed for parallelism.\")\n",
            "/usr/local/lib/python3.10/dist-packages/umap/umap_.py:2437: UserWarning: n_neighbors is larger than the dataset size; truncating to X.shape[0] - 1\n",
            "  warn(\n"
          ]
        },
        {
          "output_type": "stream",
          "name": "stdout",
          "text": [
            "calculando distancias\n",
            "(206, 206)\n",
            "done distance matrix\n",
            "knn\n",
            " knn done\n",
            " afinity matrix\n",
            " afinity matrix done\n",
            "imputation\n",
            "done\n",
            "done Mon May 20 20:17:27 2024\n"
          ]
        },
        {
          "output_type": "stream",
          "name": "stderr",
          "text": [
            "\rProcessing KNN values:  22%|██▏       | 21/95 [01:55<06:17,  5.10s/it]/usr/local/lib/python3.10/dist-packages/umap/umap_.py:1945: UserWarning: n_jobs value 1 overridden to 1 by setting random_state. Use no seed for parallelism.\n",
            "  warn(f\"n_jobs value {self.n_jobs} overridden to 1 by setting random_state. Use no seed for parallelism.\")\n",
            "/usr/local/lib/python3.10/dist-packages/umap/umap_.py:2437: UserWarning: n_neighbors is larger than the dataset size; truncating to X.shape[0] - 1\n",
            "  warn(\n"
          ]
        },
        {
          "output_type": "stream",
          "name": "stdout",
          "text": [
            "calculando distancias\n",
            "(206, 206)\n",
            "done distance matrix\n",
            "knn\n",
            " knn done\n",
            " afinity matrix\n",
            " afinity matrix done\n",
            "imputation\n",
            "done\n",
            "done Mon May 20 20:17:32 2024\n"
          ]
        },
        {
          "output_type": "stream",
          "name": "stderr",
          "text": [
            "\rProcessing KNN values:  23%|██▎       | 22/95 [02:01<06:25,  5.28s/it]/usr/local/lib/python3.10/dist-packages/umap/umap_.py:1945: UserWarning: n_jobs value 1 overridden to 1 by setting random_state. Use no seed for parallelism.\n",
            "  warn(f\"n_jobs value {self.n_jobs} overridden to 1 by setting random_state. Use no seed for parallelism.\")\n",
            "/usr/local/lib/python3.10/dist-packages/umap/umap_.py:2437: UserWarning: n_neighbors is larger than the dataset size; truncating to X.shape[0] - 1\n",
            "  warn(\n"
          ]
        },
        {
          "output_type": "stream",
          "name": "stdout",
          "text": [
            "calculando distancias\n",
            "(206, 206)\n",
            "done distance matrix\n",
            "knn\n",
            " knn done\n",
            " afinity matrix\n",
            " afinity matrix done\n",
            "imputation\n",
            "done\n",
            "done Mon May 20 20:17:37 2024\n"
          ]
        },
        {
          "output_type": "stream",
          "name": "stderr",
          "text": [
            "\rProcessing KNN values:  24%|██▍       | 23/95 [02:05<06:08,  5.12s/it]/usr/local/lib/python3.10/dist-packages/umap/umap_.py:1945: UserWarning: n_jobs value 1 overridden to 1 by setting random_state. Use no seed for parallelism.\n",
            "  warn(f\"n_jobs value {self.n_jobs} overridden to 1 by setting random_state. Use no seed for parallelism.\")\n",
            "/usr/local/lib/python3.10/dist-packages/umap/umap_.py:2437: UserWarning: n_neighbors is larger than the dataset size; truncating to X.shape[0] - 1\n",
            "  warn(\n"
          ]
        },
        {
          "output_type": "stream",
          "name": "stdout",
          "text": [
            "calculando distancias\n",
            "(206, 206)\n",
            "done distance matrix\n",
            "knn\n",
            " knn done\n",
            " afinity matrix\n",
            " afinity matrix done\n",
            "imputation\n",
            "done\n",
            "done Mon May 20 20:17:42 2024\n"
          ]
        },
        {
          "output_type": "stream",
          "name": "stderr",
          "text": [
            "\rProcessing KNN values:  25%|██▌       | 24/95 [02:10<05:51,  4.95s/it]/usr/local/lib/python3.10/dist-packages/umap/umap_.py:1945: UserWarning: n_jobs value 1 overridden to 1 by setting random_state. Use no seed for parallelism.\n",
            "  warn(f\"n_jobs value {self.n_jobs} overridden to 1 by setting random_state. Use no seed for parallelism.\")\n",
            "/usr/local/lib/python3.10/dist-packages/umap/umap_.py:2437: UserWarning: n_neighbors is larger than the dataset size; truncating to X.shape[0] - 1\n",
            "  warn(\n"
          ]
        },
        {
          "output_type": "stream",
          "name": "stdout",
          "text": [
            "calculando distancias\n",
            "(206, 206)\n",
            "done distance matrix\n",
            "knn\n",
            " knn done\n",
            " afinity matrix\n",
            " afinity matrix done\n",
            "imputation\n",
            "done\n",
            "done Mon May 20 20:17:48 2024\n"
          ]
        },
        {
          "output_type": "stream",
          "name": "stderr",
          "text": [
            "\rProcessing KNN values:  26%|██▋       | 25/95 [02:16<06:10,  5.29s/it]/usr/local/lib/python3.10/dist-packages/umap/umap_.py:1945: UserWarning: n_jobs value 1 overridden to 1 by setting random_state. Use no seed for parallelism.\n",
            "  warn(f\"n_jobs value {self.n_jobs} overridden to 1 by setting random_state. Use no seed for parallelism.\")\n",
            "/usr/local/lib/python3.10/dist-packages/umap/umap_.py:2437: UserWarning: n_neighbors is larger than the dataset size; truncating to X.shape[0] - 1\n",
            "  warn(\n"
          ]
        },
        {
          "output_type": "stream",
          "name": "stdout",
          "text": [
            "calculando distancias\n",
            "(206, 206)\n",
            "done distance matrix\n",
            "knn\n",
            " knn done\n",
            " afinity matrix\n",
            " afinity matrix done\n",
            "imputation\n",
            "done\n",
            "done Mon May 20 20:17:53 2024\n"
          ]
        },
        {
          "output_type": "stream",
          "name": "stderr",
          "text": [
            "\rProcessing KNN values:  27%|██▋       | 26/95 [02:21<05:54,  5.14s/it]/usr/local/lib/python3.10/dist-packages/umap/umap_.py:1945: UserWarning: n_jobs value 1 overridden to 1 by setting random_state. Use no seed for parallelism.\n",
            "  warn(f\"n_jobs value {self.n_jobs} overridden to 1 by setting random_state. Use no seed for parallelism.\")\n",
            "/usr/local/lib/python3.10/dist-packages/umap/umap_.py:2437: UserWarning: n_neighbors is larger than the dataset size; truncating to X.shape[0] - 1\n",
            "  warn(\n"
          ]
        },
        {
          "output_type": "stream",
          "name": "stdout",
          "text": [
            "calculando distancias\n",
            "(206, 206)\n",
            "done distance matrix\n",
            "knn\n",
            " knn done\n",
            " afinity matrix\n",
            " afinity matrix done\n",
            "imputation\n",
            "done\n",
            "done Mon May 20 20:17:57 2024\n"
          ]
        },
        {
          "output_type": "stream",
          "name": "stderr",
          "text": [
            "\rProcessing KNN values:  28%|██▊       | 27/95 [02:25<05:39,  5.00s/it]/usr/local/lib/python3.10/dist-packages/umap/umap_.py:1945: UserWarning: n_jobs value 1 overridden to 1 by setting random_state. Use no seed for parallelism.\n",
            "  warn(f\"n_jobs value {self.n_jobs} overridden to 1 by setting random_state. Use no seed for parallelism.\")\n",
            "/usr/local/lib/python3.10/dist-packages/umap/umap_.py:2437: UserWarning: n_neighbors is larger than the dataset size; truncating to X.shape[0] - 1\n",
            "  warn(\n"
          ]
        },
        {
          "output_type": "stream",
          "name": "stdout",
          "text": [
            "calculando distancias\n",
            "(206, 206)\n",
            "done distance matrix\n",
            "knn\n",
            " knn done\n",
            " afinity matrix\n",
            " afinity matrix done\n",
            "imputation\n",
            "done\n",
            "done Mon May 20 20:18:03 2024\n"
          ]
        },
        {
          "output_type": "stream",
          "name": "stderr",
          "text": [
            "\rProcessing KNN values:  29%|██▉       | 28/95 [02:31<05:43,  5.13s/it]/usr/local/lib/python3.10/dist-packages/umap/umap_.py:1945: UserWarning: n_jobs value 1 overridden to 1 by setting random_state. Use no seed for parallelism.\n",
            "  warn(f\"n_jobs value {self.n_jobs} overridden to 1 by setting random_state. Use no seed for parallelism.\")\n",
            "/usr/local/lib/python3.10/dist-packages/umap/umap_.py:2437: UserWarning: n_neighbors is larger than the dataset size; truncating to X.shape[0] - 1\n",
            "  warn(\n"
          ]
        },
        {
          "output_type": "stream",
          "name": "stdout",
          "text": [
            "calculando distancias\n",
            "(206, 206)\n",
            "done distance matrix\n",
            "knn\n",
            " knn done\n",
            " afinity matrix\n",
            " afinity matrix done\n",
            "imputation\n",
            "done\n",
            "done Mon May 20 20:18:08 2024\n"
          ]
        },
        {
          "output_type": "stream",
          "name": "stderr",
          "text": [
            "\rProcessing KNN values:  31%|███       | 29/95 [02:36<05:34,  5.06s/it]/usr/local/lib/python3.10/dist-packages/umap/umap_.py:1945: UserWarning: n_jobs value 1 overridden to 1 by setting random_state. Use no seed for parallelism.\n",
            "  warn(f\"n_jobs value {self.n_jobs} overridden to 1 by setting random_state. Use no seed for parallelism.\")\n",
            "/usr/local/lib/python3.10/dist-packages/umap/umap_.py:2437: UserWarning: n_neighbors is larger than the dataset size; truncating to X.shape[0] - 1\n",
            "  warn(\n"
          ]
        },
        {
          "output_type": "stream",
          "name": "stdout",
          "text": [
            "calculando distancias\n",
            "(206, 206)\n",
            "done distance matrix\n",
            "knn\n",
            " knn done\n",
            " afinity matrix\n",
            " afinity matrix done\n",
            "imputation\n",
            "done\n",
            "done Mon May 20 20:18:12 2024\n"
          ]
        },
        {
          "output_type": "stream",
          "name": "stderr",
          "text": [
            "\rProcessing KNN values:  32%|███▏      | 30/95 [02:40<05:19,  4.91s/it]/usr/local/lib/python3.10/dist-packages/umap/umap_.py:1945: UserWarning: n_jobs value 1 overridden to 1 by setting random_state. Use no seed for parallelism.\n",
            "  warn(f\"n_jobs value {self.n_jobs} overridden to 1 by setting random_state. Use no seed for parallelism.\")\n",
            "/usr/local/lib/python3.10/dist-packages/umap/umap_.py:2437: UserWarning: n_neighbors is larger than the dataset size; truncating to X.shape[0] - 1\n",
            "  warn(\n"
          ]
        },
        {
          "output_type": "stream",
          "name": "stdout",
          "text": [
            "calculando distancias\n",
            "(206, 206)\n",
            "done distance matrix\n",
            "knn\n",
            " knn done\n",
            " afinity matrix\n",
            " afinity matrix done\n",
            "imputation\n",
            "done\n",
            "done Mon May 20 20:18:18 2024\n"
          ]
        },
        {
          "output_type": "stream",
          "name": "stderr",
          "text": [
            "\rProcessing KNN values:  33%|███▎      | 31/95 [02:46<05:37,  5.27s/it]/usr/local/lib/python3.10/dist-packages/umap/umap_.py:1945: UserWarning: n_jobs value 1 overridden to 1 by setting random_state. Use no seed for parallelism.\n",
            "  warn(f\"n_jobs value {self.n_jobs} overridden to 1 by setting random_state. Use no seed for parallelism.\")\n",
            "/usr/local/lib/python3.10/dist-packages/umap/umap_.py:2437: UserWarning: n_neighbors is larger than the dataset size; truncating to X.shape[0] - 1\n",
            "  warn(\n"
          ]
        },
        {
          "output_type": "stream",
          "name": "stdout",
          "text": [
            "calculando distancias\n",
            "(206, 206)\n",
            "done distance matrix\n",
            "knn\n",
            " knn done\n",
            " afinity matrix\n",
            " afinity matrix done\n",
            "imputation\n",
            "done\n",
            "done Mon May 20 20:18:23 2024\n"
          ]
        },
        {
          "output_type": "stream",
          "name": "stderr",
          "text": [
            "\rProcessing KNN values:  34%|███▎      | 32/95 [02:51<05:22,  5.11s/it]/usr/local/lib/python3.10/dist-packages/umap/umap_.py:1945: UserWarning: n_jobs value 1 overridden to 1 by setting random_state. Use no seed for parallelism.\n",
            "  warn(f\"n_jobs value {self.n_jobs} overridden to 1 by setting random_state. Use no seed for parallelism.\")\n",
            "/usr/local/lib/python3.10/dist-packages/umap/umap_.py:2437: UserWarning: n_neighbors is larger than the dataset size; truncating to X.shape[0] - 1\n",
            "  warn(\n"
          ]
        },
        {
          "output_type": "stream",
          "name": "stdout",
          "text": [
            "calculando distancias\n",
            "(206, 206)\n",
            "done distance matrix\n",
            "knn\n",
            " knn done\n",
            " afinity matrix\n",
            " afinity matrix done\n",
            "imputation\n",
            "done\n",
            "done Mon May 20 20:18:28 2024\n"
          ]
        },
        {
          "output_type": "stream",
          "name": "stderr",
          "text": [
            "\rProcessing KNN values:  35%|███▍      | 33/95 [02:58<05:39,  5.48s/it]/usr/local/lib/python3.10/dist-packages/umap/umap_.py:1945: UserWarning: n_jobs value 1 overridden to 1 by setting random_state. Use no seed for parallelism.\n",
            "  warn(f\"n_jobs value {self.n_jobs} overridden to 1 by setting random_state. Use no seed for parallelism.\")\n",
            "/usr/local/lib/python3.10/dist-packages/umap/umap_.py:2437: UserWarning: n_neighbors is larger than the dataset size; truncating to X.shape[0] - 1\n",
            "  warn(\n"
          ]
        },
        {
          "output_type": "stream",
          "name": "stdout",
          "text": [
            "calculando distancias\n",
            "(206, 206)\n",
            "done distance matrix\n",
            "knn\n",
            " knn done\n",
            " afinity matrix\n",
            " afinity matrix done\n",
            "imputation\n",
            "done\n",
            "done Mon May 20 20:18:35 2024\n"
          ]
        },
        {
          "output_type": "stream",
          "name": "stderr",
          "text": [
            "\rProcessing KNN values:  36%|███▌      | 34/95 [03:03<05:38,  5.54s/it]/usr/local/lib/python3.10/dist-packages/umap/umap_.py:1945: UserWarning: n_jobs value 1 overridden to 1 by setting random_state. Use no seed for parallelism.\n",
            "  warn(f\"n_jobs value {self.n_jobs} overridden to 1 by setting random_state. Use no seed for parallelism.\")\n",
            "/usr/local/lib/python3.10/dist-packages/umap/umap_.py:2437: UserWarning: n_neighbors is larger than the dataset size; truncating to X.shape[0] - 1\n",
            "  warn(\n"
          ]
        },
        {
          "output_type": "stream",
          "name": "stdout",
          "text": [
            "calculando distancias\n",
            "(206, 206)\n",
            "done distance matrix\n",
            "knn\n",
            " knn done\n",
            " afinity matrix\n",
            " afinity matrix done\n",
            "imputation\n",
            "done\n",
            "done Mon May 20 20:18:40 2024\n"
          ]
        },
        {
          "output_type": "stream",
          "name": "stderr",
          "text": [
            "\rProcessing KNN values:  37%|███▋      | 35/95 [03:08<05:15,  5.26s/it]/usr/local/lib/python3.10/dist-packages/umap/umap_.py:1945: UserWarning: n_jobs value 1 overridden to 1 by setting random_state. Use no seed for parallelism.\n",
            "  warn(f\"n_jobs value {self.n_jobs} overridden to 1 by setting random_state. Use no seed for parallelism.\")\n",
            "/usr/local/lib/python3.10/dist-packages/umap/umap_.py:2437: UserWarning: n_neighbors is larger than the dataset size; truncating to X.shape[0] - 1\n",
            "  warn(\n"
          ]
        },
        {
          "output_type": "stream",
          "name": "stdout",
          "text": [
            "calculando distancias\n",
            "(206, 206)\n",
            "done distance matrix\n",
            "knn\n",
            " knn done\n",
            " afinity matrix\n",
            " afinity matrix done\n",
            "imputation\n",
            "done\n",
            "done Mon May 20 20:18:45 2024\n"
          ]
        },
        {
          "output_type": "stream",
          "name": "stderr",
          "text": [
            "\rProcessing KNN values:  38%|███▊      | 36/95 [03:13<05:11,  5.28s/it]/usr/local/lib/python3.10/dist-packages/umap/umap_.py:1945: UserWarning: n_jobs value 1 overridden to 1 by setting random_state. Use no seed for parallelism.\n",
            "  warn(f\"n_jobs value {self.n_jobs} overridden to 1 by setting random_state. Use no seed for parallelism.\")\n",
            "/usr/local/lib/python3.10/dist-packages/umap/umap_.py:2437: UserWarning: n_neighbors is larger than the dataset size; truncating to X.shape[0] - 1\n",
            "  warn(\n"
          ]
        },
        {
          "output_type": "stream",
          "name": "stdout",
          "text": [
            "calculando distancias\n",
            "(206, 206)\n",
            "done distance matrix\n",
            "knn\n",
            " knn done\n",
            " afinity matrix\n",
            " afinity matrix done\n",
            "imputation\n",
            "done\n",
            "done Mon May 20 20:18:51 2024\n"
          ]
        },
        {
          "output_type": "stream",
          "name": "stderr",
          "text": [
            "\rProcessing KNN values:  39%|███▉      | 37/95 [03:19<05:13,  5.40s/it]/usr/local/lib/python3.10/dist-packages/umap/umap_.py:1945: UserWarning: n_jobs value 1 overridden to 1 by setting random_state. Use no seed for parallelism.\n",
            "  warn(f\"n_jobs value {self.n_jobs} overridden to 1 by setting random_state. Use no seed for parallelism.\")\n",
            "/usr/local/lib/python3.10/dist-packages/umap/umap_.py:2437: UserWarning: n_neighbors is larger than the dataset size; truncating to X.shape[0] - 1\n",
            "  warn(\n"
          ]
        },
        {
          "output_type": "stream",
          "name": "stdout",
          "text": [
            "calculando distancias\n",
            "(206, 206)\n",
            "done distance matrix\n",
            "knn\n",
            " knn done\n",
            " afinity matrix\n",
            " afinity matrix done\n",
            "imputation\n",
            "done\n",
            "done Mon May 20 20:18:55 2024\n"
          ]
        },
        {
          "output_type": "stream",
          "name": "stderr",
          "text": [
            "\rProcessing KNN values:  40%|████      | 38/95 [03:23<04:53,  5.15s/it]/usr/local/lib/python3.10/dist-packages/umap/umap_.py:1945: UserWarning: n_jobs value 1 overridden to 1 by setting random_state. Use no seed for parallelism.\n",
            "  warn(f\"n_jobs value {self.n_jobs} overridden to 1 by setting random_state. Use no seed for parallelism.\")\n",
            "/usr/local/lib/python3.10/dist-packages/umap/umap_.py:2437: UserWarning: n_neighbors is larger than the dataset size; truncating to X.shape[0] - 1\n",
            "  warn(\n"
          ]
        },
        {
          "output_type": "stream",
          "name": "stdout",
          "text": [
            "calculando distancias\n",
            "(206, 206)\n",
            "done distance matrix\n",
            "knn\n",
            " knn done\n",
            " afinity matrix\n",
            " afinity matrix done\n",
            "imputation\n",
            "done\n",
            "done Mon May 20 20:19:00 2024\n"
          ]
        },
        {
          "output_type": "stream",
          "name": "stderr",
          "text": [
            "\rProcessing KNN values:  41%|████      | 39/95 [03:28<04:43,  5.07s/it]/usr/local/lib/python3.10/dist-packages/umap/umap_.py:1945: UserWarning: n_jobs value 1 overridden to 1 by setting random_state. Use no seed for parallelism.\n",
            "  warn(f\"n_jobs value {self.n_jobs} overridden to 1 by setting random_state. Use no seed for parallelism.\")\n",
            "/usr/local/lib/python3.10/dist-packages/umap/umap_.py:2437: UserWarning: n_neighbors is larger than the dataset size; truncating to X.shape[0] - 1\n",
            "  warn(\n"
          ]
        },
        {
          "output_type": "stream",
          "name": "stdout",
          "text": [
            "calculando distancias\n",
            "(206, 206)\n",
            "done distance matrix\n",
            "knn\n",
            " knn done\n",
            " afinity matrix\n",
            " afinity matrix done\n",
            "imputation\n",
            "done\n",
            "done Mon May 20 20:19:06 2024\n"
          ]
        },
        {
          "output_type": "stream",
          "name": "stderr",
          "text": [
            "\rProcessing KNN values:  42%|████▏     | 40/95 [03:34<04:48,  5.25s/it]/usr/local/lib/python3.10/dist-packages/umap/umap_.py:1945: UserWarning: n_jobs value 1 overridden to 1 by setting random_state. Use no seed for parallelism.\n",
            "  warn(f\"n_jobs value {self.n_jobs} overridden to 1 by setting random_state. Use no seed for parallelism.\")\n",
            "/usr/local/lib/python3.10/dist-packages/umap/umap_.py:2437: UserWarning: n_neighbors is larger than the dataset size; truncating to X.shape[0] - 1\n",
            "  warn(\n"
          ]
        },
        {
          "output_type": "stream",
          "name": "stdout",
          "text": [
            "calculando distancias\n",
            "(206, 206)\n",
            "done distance matrix\n",
            "knn\n",
            " knn done\n",
            " afinity matrix\n",
            " afinity matrix done\n",
            "imputation\n",
            "done\n",
            "done Mon May 20 20:19:11 2024\n"
          ]
        },
        {
          "output_type": "stream",
          "name": "stderr",
          "text": [
            "\rProcessing KNN values:  43%|████▎     | 41/95 [03:39<04:33,  5.07s/it]/usr/local/lib/python3.10/dist-packages/umap/umap_.py:1945: UserWarning: n_jobs value 1 overridden to 1 by setting random_state. Use no seed for parallelism.\n",
            "  warn(f\"n_jobs value {self.n_jobs} overridden to 1 by setting random_state. Use no seed for parallelism.\")\n",
            "/usr/local/lib/python3.10/dist-packages/umap/umap_.py:2437: UserWarning: n_neighbors is larger than the dataset size; truncating to X.shape[0] - 1\n",
            "  warn(\n"
          ]
        },
        {
          "output_type": "stream",
          "name": "stdout",
          "text": [
            "calculando distancias\n",
            "(206, 206)\n",
            "done distance matrix\n",
            "knn\n",
            " knn done\n",
            " afinity matrix\n",
            " afinity matrix done\n",
            "imputation\n",
            "done\n",
            "done Mon May 20 20:19:16 2024\n"
          ]
        },
        {
          "output_type": "stream",
          "name": "stderr",
          "text": [
            "\rProcessing KNN values:  44%|████▍     | 42/95 [03:44<04:39,  5.27s/it]/usr/local/lib/python3.10/dist-packages/umap/umap_.py:1945: UserWarning: n_jobs value 1 overridden to 1 by setting random_state. Use no seed for parallelism.\n",
            "  warn(f\"n_jobs value {self.n_jobs} overridden to 1 by setting random_state. Use no seed for parallelism.\")\n",
            "/usr/local/lib/python3.10/dist-packages/umap/umap_.py:2437: UserWarning: n_neighbors is larger than the dataset size; truncating to X.shape[0] - 1\n",
            "  warn(\n"
          ]
        },
        {
          "output_type": "stream",
          "name": "stdout",
          "text": [
            "calculando distancias\n",
            "(206, 206)\n",
            "done distance matrix\n",
            "knn\n",
            " knn done\n",
            " afinity matrix\n",
            " afinity matrix done\n",
            "imputation\n",
            "done\n",
            "done Mon May 20 20:19:22 2024\n"
          ]
        },
        {
          "output_type": "stream",
          "name": "stderr",
          "text": [
            "\rProcessing KNN values:  45%|████▌     | 43/95 [03:50<04:38,  5.35s/it]/usr/local/lib/python3.10/dist-packages/umap/umap_.py:1945: UserWarning: n_jobs value 1 overridden to 1 by setting random_state. Use no seed for parallelism.\n",
            "  warn(f\"n_jobs value {self.n_jobs} overridden to 1 by setting random_state. Use no seed for parallelism.\")\n",
            "/usr/local/lib/python3.10/dist-packages/umap/umap_.py:2437: UserWarning: n_neighbors is larger than the dataset size; truncating to X.shape[0] - 1\n",
            "  warn(\n"
          ]
        },
        {
          "output_type": "stream",
          "name": "stdout",
          "text": [
            "calculando distancias\n",
            "(206, 206)\n",
            "done distance matrix\n",
            "knn\n",
            " knn done\n",
            " afinity matrix\n",
            " afinity matrix done\n",
            "imputation\n",
            "done\n",
            "done Mon May 20 20:19:27 2024\n"
          ]
        },
        {
          "output_type": "stream",
          "name": "stderr",
          "text": [
            "\rProcessing KNN values:  46%|████▋     | 44/95 [03:55<04:22,  5.15s/it]/usr/local/lib/python3.10/dist-packages/umap/umap_.py:1945: UserWarning: n_jobs value 1 overridden to 1 by setting random_state. Use no seed for parallelism.\n",
            "  warn(f\"n_jobs value {self.n_jobs} overridden to 1 by setting random_state. Use no seed for parallelism.\")\n",
            "/usr/local/lib/python3.10/dist-packages/umap/umap_.py:2437: UserWarning: n_neighbors is larger than the dataset size; truncating to X.shape[0] - 1\n",
            "  warn(\n"
          ]
        },
        {
          "output_type": "stream",
          "name": "stdout",
          "text": [
            "calculando distancias\n",
            "(206, 206)\n",
            "done distance matrix\n",
            "knn\n",
            " knn done\n",
            " afinity matrix\n",
            " afinity matrix done\n",
            "imputation\n",
            "done\n",
            "done Mon May 20 20:19:32 2024\n"
          ]
        },
        {
          "output_type": "stream",
          "name": "stderr",
          "text": [
            "\rProcessing KNN values:  47%|████▋     | 45/95 [04:00<04:19,  5.19s/it]/usr/local/lib/python3.10/dist-packages/umap/umap_.py:1945: UserWarning: n_jobs value 1 overridden to 1 by setting random_state. Use no seed for parallelism.\n",
            "  warn(f\"n_jobs value {self.n_jobs} overridden to 1 by setting random_state. Use no seed for parallelism.\")\n",
            "/usr/local/lib/python3.10/dist-packages/umap/umap_.py:2437: UserWarning: n_neighbors is larger than the dataset size; truncating to X.shape[0] - 1\n",
            "  warn(\n"
          ]
        },
        {
          "output_type": "stream",
          "name": "stdout",
          "text": [
            "calculando distancias\n",
            "(206, 206)\n",
            "done distance matrix\n",
            "knn\n",
            " knn done\n",
            " afinity matrix\n",
            " afinity matrix done\n",
            "imputation\n",
            "done\n",
            "done Mon May 20 20:19:37 2024\n"
          ]
        },
        {
          "output_type": "stream",
          "name": "stderr",
          "text": [
            "\rProcessing KNN values:  48%|████▊     | 46/95 [04:05<04:18,  5.27s/it]/usr/local/lib/python3.10/dist-packages/umap/umap_.py:1945: UserWarning: n_jobs value 1 overridden to 1 by setting random_state. Use no seed for parallelism.\n",
            "  warn(f\"n_jobs value {self.n_jobs} overridden to 1 by setting random_state. Use no seed for parallelism.\")\n",
            "/usr/local/lib/python3.10/dist-packages/umap/umap_.py:2437: UserWarning: n_neighbors is larger than the dataset size; truncating to X.shape[0] - 1\n",
            "  warn(\n"
          ]
        },
        {
          "output_type": "stream",
          "name": "stdout",
          "text": [
            "calculando distancias\n",
            "(206, 206)\n",
            "done distance matrix\n",
            "knn\n",
            " knn done\n",
            " afinity matrix\n",
            " afinity matrix done\n",
            "imputation\n",
            "done\n",
            "done Mon May 20 20:19:42 2024\n"
          ]
        },
        {
          "output_type": "stream",
          "name": "stderr",
          "text": [
            "\rProcessing KNN values:  49%|████▉     | 47/95 [04:11<04:12,  5.25s/it]/usr/local/lib/python3.10/dist-packages/umap/umap_.py:1945: UserWarning: n_jobs value 1 overridden to 1 by setting random_state. Use no seed for parallelism.\n",
            "  warn(f\"n_jobs value {self.n_jobs} overridden to 1 by setting random_state. Use no seed for parallelism.\")\n",
            "/usr/local/lib/python3.10/dist-packages/umap/umap_.py:2437: UserWarning: n_neighbors is larger than the dataset size; truncating to X.shape[0] - 1\n",
            "  warn(\n"
          ]
        },
        {
          "output_type": "stream",
          "name": "stdout",
          "text": [
            "calculando distancias\n",
            "(206, 206)\n",
            "done distance matrix\n",
            "knn\n",
            " knn done\n",
            " afinity matrix\n",
            " afinity matrix done\n",
            "imputation\n",
            "done\n",
            "done Mon May 20 20:19:48 2024\n"
          ]
        },
        {
          "output_type": "stream",
          "name": "stderr",
          "text": [
            "\rProcessing KNN values:  51%|█████     | 48/95 [04:16<04:10,  5.33s/it]/usr/local/lib/python3.10/dist-packages/umap/umap_.py:1945: UserWarning: n_jobs value 1 overridden to 1 by setting random_state. Use no seed for parallelism.\n",
            "  warn(f\"n_jobs value {self.n_jobs} overridden to 1 by setting random_state. Use no seed for parallelism.\")\n",
            "/usr/local/lib/python3.10/dist-packages/umap/umap_.py:2437: UserWarning: n_neighbors is larger than the dataset size; truncating to X.shape[0] - 1\n",
            "  warn(\n"
          ]
        },
        {
          "output_type": "stream",
          "name": "stdout",
          "text": [
            "calculando distancias\n",
            "(206, 206)\n",
            "done distance matrix\n",
            "knn\n",
            " knn done\n",
            " afinity matrix\n",
            " afinity matrix done\n",
            "imputation\n",
            "done\n",
            "done Mon May 20 20:19:53 2024\n"
          ]
        },
        {
          "output_type": "stream",
          "name": "stderr",
          "text": [
            "\rProcessing KNN values:  52%|█████▏    | 49/95 [04:21<04:06,  5.36s/it]/usr/local/lib/python3.10/dist-packages/umap/umap_.py:1945: UserWarning: n_jobs value 1 overridden to 1 by setting random_state. Use no seed for parallelism.\n",
            "  warn(f\"n_jobs value {self.n_jobs} overridden to 1 by setting random_state. Use no seed for parallelism.\")\n",
            "/usr/local/lib/python3.10/dist-packages/umap/umap_.py:2437: UserWarning: n_neighbors is larger than the dataset size; truncating to X.shape[0] - 1\n",
            "  warn(\n"
          ]
        },
        {
          "output_type": "stream",
          "name": "stdout",
          "text": [
            "calculando distancias\n",
            "(206, 206)\n",
            "done distance matrix\n",
            "knn\n",
            " knn done\n",
            " afinity matrix\n",
            " afinity matrix done\n",
            "imputation\n",
            "done\n",
            "done Mon May 20 20:19:58 2024\n"
          ]
        },
        {
          "output_type": "stream",
          "name": "stderr",
          "text": [
            "\rProcessing KNN values:  53%|█████▎    | 50/95 [04:26<03:53,  5.20s/it]/usr/local/lib/python3.10/dist-packages/umap/umap_.py:1945: UserWarning: n_jobs value 1 overridden to 1 by setting random_state. Use no seed for parallelism.\n",
            "  warn(f\"n_jobs value {self.n_jobs} overridden to 1 by setting random_state. Use no seed for parallelism.\")\n",
            "/usr/local/lib/python3.10/dist-packages/umap/umap_.py:2437: UserWarning: n_neighbors is larger than the dataset size; truncating to X.shape[0] - 1\n",
            "  warn(\n"
          ]
        },
        {
          "output_type": "stream",
          "name": "stdout",
          "text": [
            "calculando distancias\n",
            "(206, 206)\n",
            "done distance matrix\n",
            "knn\n",
            " knn done\n",
            " afinity matrix\n",
            " afinity matrix done\n",
            "imputation\n",
            "done\n",
            "done Mon May 20 20:20:03 2024\n"
          ]
        },
        {
          "output_type": "stream",
          "name": "stderr",
          "text": [
            "\rProcessing KNN values:  54%|█████▎    | 51/95 [04:32<03:52,  5.30s/it]/usr/local/lib/python3.10/dist-packages/umap/umap_.py:1945: UserWarning: n_jobs value 1 overridden to 1 by setting random_state. Use no seed for parallelism.\n",
            "  warn(f\"n_jobs value {self.n_jobs} overridden to 1 by setting random_state. Use no seed for parallelism.\")\n",
            "/usr/local/lib/python3.10/dist-packages/umap/umap_.py:2437: UserWarning: n_neighbors is larger than the dataset size; truncating to X.shape[0] - 1\n",
            "  warn(\n"
          ]
        },
        {
          "output_type": "stream",
          "name": "stdout",
          "text": [
            "calculando distancias\n",
            "(206, 206)\n",
            "done distance matrix\n",
            "knn\n",
            " knn done\n",
            " afinity matrix\n",
            " afinity matrix done\n",
            "imputation\n",
            "done\n",
            "done Mon May 20 20:20:09 2024\n"
          ]
        },
        {
          "output_type": "stream",
          "name": "stderr",
          "text": [
            "\rProcessing KNN values:  55%|█████▍    | 52/95 [04:37<03:47,  5.28s/it]/usr/local/lib/python3.10/dist-packages/umap/umap_.py:1945: UserWarning: n_jobs value 1 overridden to 1 by setting random_state. Use no seed for parallelism.\n",
            "  warn(f\"n_jobs value {self.n_jobs} overridden to 1 by setting random_state. Use no seed for parallelism.\")\n",
            "/usr/local/lib/python3.10/dist-packages/umap/umap_.py:2437: UserWarning: n_neighbors is larger than the dataset size; truncating to X.shape[0] - 1\n",
            "  warn(\n"
          ]
        },
        {
          "output_type": "stream",
          "name": "stdout",
          "text": [
            "calculando distancias\n",
            "(206, 206)\n",
            "done distance matrix\n",
            "knn\n",
            " knn done\n",
            " afinity matrix\n",
            " afinity matrix done\n",
            "imputation\n",
            "done\n",
            "done Mon May 20 20:20:14 2024\n"
          ]
        },
        {
          "output_type": "stream",
          "name": "stderr",
          "text": [
            "\rProcessing KNN values:  56%|█████▌    | 53/95 [04:42<03:42,  5.29s/it]/usr/local/lib/python3.10/dist-packages/umap/umap_.py:1945: UserWarning: n_jobs value 1 overridden to 1 by setting random_state. Use no seed for parallelism.\n",
            "  warn(f\"n_jobs value {self.n_jobs} overridden to 1 by setting random_state. Use no seed for parallelism.\")\n",
            "/usr/local/lib/python3.10/dist-packages/umap/umap_.py:2437: UserWarning: n_neighbors is larger than the dataset size; truncating to X.shape[0] - 1\n",
            "  warn(\n"
          ]
        },
        {
          "output_type": "stream",
          "name": "stdout",
          "text": [
            "calculando distancias\n",
            "(206, 206)\n",
            "done distance matrix\n",
            "knn\n",
            " knn done\n",
            " afinity matrix\n",
            " afinity matrix done\n",
            "imputation\n",
            "done\n",
            "done Mon May 20 20:20:20 2024\n"
          ]
        },
        {
          "output_type": "stream",
          "name": "stderr",
          "text": [
            "\rProcessing KNN values:  57%|█████▋    | 54/95 [04:48<03:43,  5.45s/it]/usr/local/lib/python3.10/dist-packages/umap/umap_.py:1945: UserWarning: n_jobs value 1 overridden to 1 by setting random_state. Use no seed for parallelism.\n",
            "  warn(f\"n_jobs value {self.n_jobs} overridden to 1 by setting random_state. Use no seed for parallelism.\")\n",
            "/usr/local/lib/python3.10/dist-packages/umap/umap_.py:2437: UserWarning: n_neighbors is larger than the dataset size; truncating to X.shape[0] - 1\n",
            "  warn(\n"
          ]
        },
        {
          "output_type": "stream",
          "name": "stdout",
          "text": [
            "calculando distancias\n",
            "(206, 206)\n",
            "done distance matrix\n",
            "knn\n",
            " knn done\n",
            " afinity matrix\n",
            " afinity matrix done\n",
            "imputation\n",
            "done\n",
            "done Mon May 20 20:20:25 2024\n"
          ]
        },
        {
          "output_type": "stream",
          "name": "stderr",
          "text": [
            "\rProcessing KNN values:  58%|█████▊    | 55/95 [04:53<03:29,  5.24s/it]/usr/local/lib/python3.10/dist-packages/umap/umap_.py:1945: UserWarning: n_jobs value 1 overridden to 1 by setting random_state. Use no seed for parallelism.\n",
            "  warn(f\"n_jobs value {self.n_jobs} overridden to 1 by setting random_state. Use no seed for parallelism.\")\n",
            "/usr/local/lib/python3.10/dist-packages/umap/umap_.py:2437: UserWarning: n_neighbors is larger than the dataset size; truncating to X.shape[0] - 1\n",
            "  warn(\n"
          ]
        },
        {
          "output_type": "stream",
          "name": "stdout",
          "text": [
            "calculando distancias\n",
            "(206, 206)\n",
            "done distance matrix\n",
            "knn\n",
            " knn done\n",
            " afinity matrix\n",
            " afinity matrix done\n",
            "imputation\n",
            "done\n",
            "done Mon May 20 20:20:30 2024\n"
          ]
        },
        {
          "output_type": "stream",
          "name": "stderr",
          "text": [
            "\rProcessing KNN values:  59%|█████▉    | 56/95 [04:58<03:18,  5.10s/it]/usr/local/lib/python3.10/dist-packages/umap/umap_.py:1945: UserWarning: n_jobs value 1 overridden to 1 by setting random_state. Use no seed for parallelism.\n",
            "  warn(f\"n_jobs value {self.n_jobs} overridden to 1 by setting random_state. Use no seed for parallelism.\")\n",
            "/usr/local/lib/python3.10/dist-packages/umap/umap_.py:2437: UserWarning: n_neighbors is larger than the dataset size; truncating to X.shape[0] - 1\n",
            "  warn(\n"
          ]
        },
        {
          "output_type": "stream",
          "name": "stdout",
          "text": [
            "calculando distancias\n",
            "(206, 206)\n",
            "done distance matrix\n",
            "knn\n",
            " knn done\n",
            " afinity matrix\n",
            " afinity matrix done\n",
            "imputation\n",
            "done\n",
            "done Mon May 20 20:20:35 2024\n"
          ]
        },
        {
          "output_type": "stream",
          "name": "stderr",
          "text": [
            "\rProcessing KNN values:  60%|██████    | 57/95 [05:04<03:22,  5.33s/it]/usr/local/lib/python3.10/dist-packages/umap/umap_.py:1945: UserWarning: n_jobs value 1 overridden to 1 by setting random_state. Use no seed for parallelism.\n",
            "  warn(f\"n_jobs value {self.n_jobs} overridden to 1 by setting random_state. Use no seed for parallelism.\")\n",
            "/usr/local/lib/python3.10/dist-packages/umap/umap_.py:2437: UserWarning: n_neighbors is larger than the dataset size; truncating to X.shape[0] - 1\n",
            "  warn(\n"
          ]
        },
        {
          "output_type": "stream",
          "name": "stdout",
          "text": [
            "calculando distancias\n",
            "(206, 206)\n",
            "done distance matrix\n",
            "knn\n",
            " knn done\n",
            " afinity matrix\n",
            " afinity matrix done\n",
            "imputation\n",
            "done\n",
            "done Mon May 20 20:20:41 2024\n"
          ]
        },
        {
          "output_type": "stream",
          "name": "stderr",
          "text": [
            "\rProcessing KNN values:  61%|██████    | 58/95 [05:09<03:15,  5.28s/it]/usr/local/lib/python3.10/dist-packages/umap/umap_.py:1945: UserWarning: n_jobs value 1 overridden to 1 by setting random_state. Use no seed for parallelism.\n",
            "  warn(f\"n_jobs value {self.n_jobs} overridden to 1 by setting random_state. Use no seed for parallelism.\")\n",
            "/usr/local/lib/python3.10/dist-packages/umap/umap_.py:2437: UserWarning: n_neighbors is larger than the dataset size; truncating to X.shape[0] - 1\n",
            "  warn(\n"
          ]
        },
        {
          "output_type": "stream",
          "name": "stdout",
          "text": [
            "calculando distancias\n",
            "(206, 206)\n",
            "done distance matrix\n",
            "knn\n",
            " knn done\n",
            " afinity matrix\n",
            " afinity matrix done\n",
            "imputation\n",
            "done\n",
            "done Mon May 20 20:20:45 2024\n"
          ]
        },
        {
          "output_type": "stream",
          "name": "stderr",
          "text": [
            "\rProcessing KNN values:  62%|██████▏   | 59/95 [05:14<03:05,  5.14s/it]/usr/local/lib/python3.10/dist-packages/umap/umap_.py:1945: UserWarning: n_jobs value 1 overridden to 1 by setting random_state. Use no seed for parallelism.\n",
            "  warn(f\"n_jobs value {self.n_jobs} overridden to 1 by setting random_state. Use no seed for parallelism.\")\n",
            "/usr/local/lib/python3.10/dist-packages/umap/umap_.py:2437: UserWarning: n_neighbors is larger than the dataset size; truncating to X.shape[0] - 1\n",
            "  warn(\n"
          ]
        },
        {
          "output_type": "stream",
          "name": "stdout",
          "text": [
            "calculando distancias\n",
            "(206, 206)\n",
            "done distance matrix\n",
            "knn\n",
            " knn done\n",
            " afinity matrix\n",
            " afinity matrix done\n",
            "imputation\n",
            "done\n",
            "done Mon May 20 20:20:51 2024\n"
          ]
        },
        {
          "output_type": "stream",
          "name": "stderr",
          "text": [
            "\rProcessing KNN values:  63%|██████▎   | 60/95 [05:19<03:04,  5.28s/it]/usr/local/lib/python3.10/dist-packages/umap/umap_.py:1945: UserWarning: n_jobs value 1 overridden to 1 by setting random_state. Use no seed for parallelism.\n",
            "  warn(f\"n_jobs value {self.n_jobs} overridden to 1 by setting random_state. Use no seed for parallelism.\")\n",
            "/usr/local/lib/python3.10/dist-packages/umap/umap_.py:2437: UserWarning: n_neighbors is larger than the dataset size; truncating to X.shape[0] - 1\n",
            "  warn(\n"
          ]
        },
        {
          "output_type": "stream",
          "name": "stdout",
          "text": [
            "calculando distancias\n",
            "(206, 206)\n",
            "done distance matrix\n",
            "knn\n",
            " knn done\n",
            " afinity matrix\n",
            " afinity matrix done\n",
            "imputation\n",
            "done\n",
            "done Mon May 20 20:20:56 2024\n"
          ]
        },
        {
          "output_type": "stream",
          "name": "stderr",
          "text": [
            "\rProcessing KNN values:  64%|██████▍   | 61/95 [05:24<02:52,  5.07s/it]/usr/local/lib/python3.10/dist-packages/umap/umap_.py:1945: UserWarning: n_jobs value 1 overridden to 1 by setting random_state. Use no seed for parallelism.\n",
            "  warn(f\"n_jobs value {self.n_jobs} overridden to 1 by setting random_state. Use no seed for parallelism.\")\n",
            "/usr/local/lib/python3.10/dist-packages/umap/umap_.py:2437: UserWarning: n_neighbors is larger than the dataset size; truncating to X.shape[0] - 1\n",
            "  warn(\n"
          ]
        },
        {
          "output_type": "stream",
          "name": "stdout",
          "text": [
            "calculando distancias\n",
            "(206, 206)\n",
            "done distance matrix\n",
            "knn\n",
            " knn done\n",
            " afinity matrix\n",
            " afinity matrix done\n",
            "imputation\n",
            "done\n",
            "done Mon May 20 20:21:00 2024\n"
          ]
        },
        {
          "output_type": "stream",
          "name": "stderr",
          "text": [
            "\rProcessing KNN values:  65%|██████▌   | 62/95 [05:29<02:48,  5.10s/it]/usr/local/lib/python3.10/dist-packages/umap/umap_.py:1945: UserWarning: n_jobs value 1 overridden to 1 by setting random_state. Use no seed for parallelism.\n",
            "  warn(f\"n_jobs value {self.n_jobs} overridden to 1 by setting random_state. Use no seed for parallelism.\")\n",
            "/usr/local/lib/python3.10/dist-packages/umap/umap_.py:2437: UserWarning: n_neighbors is larger than the dataset size; truncating to X.shape[0] - 1\n",
            "  warn(\n"
          ]
        },
        {
          "output_type": "stream",
          "name": "stdout",
          "text": [
            "calculando distancias\n",
            "(206, 206)\n",
            "done distance matrix\n",
            "knn\n",
            " knn done\n",
            " afinity matrix\n",
            " afinity matrix done\n",
            "imputation\n",
            "done\n",
            "done Mon May 20 20:21:07 2024\n"
          ]
        },
        {
          "output_type": "stream",
          "name": "stderr",
          "text": [
            "\rProcessing KNN values:  66%|██████▋   | 63/95 [05:35<02:51,  5.35s/it]/usr/local/lib/python3.10/dist-packages/umap/umap_.py:1945: UserWarning: n_jobs value 1 overridden to 1 by setting random_state. Use no seed for parallelism.\n",
            "  warn(f\"n_jobs value {self.n_jobs} overridden to 1 by setting random_state. Use no seed for parallelism.\")\n",
            "/usr/local/lib/python3.10/dist-packages/umap/umap_.py:2437: UserWarning: n_neighbors is larger than the dataset size; truncating to X.shape[0] - 1\n",
            "  warn(\n"
          ]
        },
        {
          "output_type": "stream",
          "name": "stdout",
          "text": [
            "calculando distancias\n",
            "(206, 206)\n",
            "done distance matrix\n",
            "knn\n",
            " knn done\n",
            " afinity matrix\n",
            " afinity matrix done\n",
            "imputation\n",
            "done\n",
            "done Mon May 20 20:21:12 2024\n"
          ]
        },
        {
          "output_type": "stream",
          "name": "stderr",
          "text": [
            "\rProcessing KNN values:  67%|██████▋   | 64/95 [05:40<02:46,  5.39s/it]/usr/local/lib/python3.10/dist-packages/umap/umap_.py:1945: UserWarning: n_jobs value 1 overridden to 1 by setting random_state. Use no seed for parallelism.\n",
            "  warn(f\"n_jobs value {self.n_jobs} overridden to 1 by setting random_state. Use no seed for parallelism.\")\n",
            "/usr/local/lib/python3.10/dist-packages/umap/umap_.py:2437: UserWarning: n_neighbors is larger than the dataset size; truncating to X.shape[0] - 1\n",
            "  warn(\n"
          ]
        },
        {
          "output_type": "stream",
          "name": "stdout",
          "text": [
            "calculando distancias\n",
            "(206, 206)\n",
            "done distance matrix\n",
            "knn\n",
            " knn done\n",
            " afinity matrix\n",
            " afinity matrix done\n",
            "imputation\n",
            "done\n",
            "done Mon May 20 20:21:17 2024\n"
          ]
        },
        {
          "output_type": "stream",
          "name": "stderr",
          "text": [
            "\rProcessing KNN values:  68%|██████▊   | 65/95 [05:46<02:44,  5.47s/it]/usr/local/lib/python3.10/dist-packages/umap/umap_.py:1945: UserWarning: n_jobs value 1 overridden to 1 by setting random_state. Use no seed for parallelism.\n",
            "  warn(f\"n_jobs value {self.n_jobs} overridden to 1 by setting random_state. Use no seed for parallelism.\")\n",
            "/usr/local/lib/python3.10/dist-packages/umap/umap_.py:2437: UserWarning: n_neighbors is larger than the dataset size; truncating to X.shape[0] - 1\n",
            "  warn(\n"
          ]
        },
        {
          "output_type": "stream",
          "name": "stdout",
          "text": [
            "calculando distancias\n",
            "(206, 206)\n",
            "done distance matrix\n",
            "knn\n",
            " knn done\n",
            " afinity matrix\n",
            " afinity matrix done\n",
            "imputation\n",
            "done\n",
            "done Mon May 20 20:21:26 2024\n"
          ]
        },
        {
          "output_type": "stream",
          "name": "stderr",
          "text": [
            "\rProcessing KNN values:  69%|██████▉   | 66/95 [05:55<03:08,  6.49s/it]/usr/local/lib/python3.10/dist-packages/umap/umap_.py:1945: UserWarning: n_jobs value 1 overridden to 1 by setting random_state. Use no seed for parallelism.\n",
            "  warn(f\"n_jobs value {self.n_jobs} overridden to 1 by setting random_state. Use no seed for parallelism.\")\n",
            "/usr/local/lib/python3.10/dist-packages/umap/umap_.py:2437: UserWarning: n_neighbors is larger than the dataset size; truncating to X.shape[0] - 1\n",
            "  warn(\n"
          ]
        },
        {
          "output_type": "stream",
          "name": "stdout",
          "text": [
            "calculando distancias\n",
            "(206, 206)\n",
            "done distance matrix\n",
            "knn\n",
            " knn done\n",
            " afinity matrix\n",
            " afinity matrix done\n",
            "imputation\n",
            "done\n",
            "done Mon May 20 20:21:38 2024\n"
          ]
        },
        {
          "output_type": "stream",
          "name": "stderr",
          "text": [
            "\rProcessing KNN values:  71%|███████   | 67/95 [06:06<03:43,  7.98s/it]/usr/local/lib/python3.10/dist-packages/umap/umap_.py:1945: UserWarning: n_jobs value 1 overridden to 1 by setting random_state. Use no seed for parallelism.\n",
            "  warn(f\"n_jobs value {self.n_jobs} overridden to 1 by setting random_state. Use no seed for parallelism.\")\n",
            "/usr/local/lib/python3.10/dist-packages/umap/umap_.py:2437: UserWarning: n_neighbors is larger than the dataset size; truncating to X.shape[0] - 1\n",
            "  warn(\n"
          ]
        },
        {
          "output_type": "stream",
          "name": "stdout",
          "text": [
            "calculando distancias\n",
            "(206, 206)\n",
            "done distance matrix\n",
            "knn\n",
            " knn done\n",
            " afinity matrix\n",
            " afinity matrix done\n",
            "imputation\n",
            "done\n",
            "done Mon May 20 20:21:43 2024\n"
          ]
        },
        {
          "output_type": "stream",
          "name": "stderr",
          "text": [
            "\rProcessing KNN values:  72%|███████▏  | 68/95 [06:11<03:13,  7.15s/it]/usr/local/lib/python3.10/dist-packages/umap/umap_.py:1945: UserWarning: n_jobs value 1 overridden to 1 by setting random_state. Use no seed for parallelism.\n",
            "  warn(f\"n_jobs value {self.n_jobs} overridden to 1 by setting random_state. Use no seed for parallelism.\")\n",
            "/usr/local/lib/python3.10/dist-packages/umap/umap_.py:2437: UserWarning: n_neighbors is larger than the dataset size; truncating to X.shape[0] - 1\n",
            "  warn(\n"
          ]
        },
        {
          "output_type": "stream",
          "name": "stdout",
          "text": [
            "calculando distancias\n",
            "(206, 206)\n",
            "done distance matrix\n",
            "knn\n",
            " knn done\n",
            " afinity matrix\n",
            " afinity matrix done\n",
            "imputation\n",
            "done\n",
            "done Mon May 20 20:21:53 2024\n"
          ]
        },
        {
          "output_type": "stream",
          "name": "stderr",
          "text": [
            "\rProcessing KNN values:  73%|███████▎  | 69/95 [06:22<03:33,  8.20s/it]/usr/local/lib/python3.10/dist-packages/umap/umap_.py:1945: UserWarning: n_jobs value 1 overridden to 1 by setting random_state. Use no seed for parallelism.\n",
            "  warn(f\"n_jobs value {self.n_jobs} overridden to 1 by setting random_state. Use no seed for parallelism.\")\n",
            "/usr/local/lib/python3.10/dist-packages/umap/umap_.py:2437: UserWarning: n_neighbors is larger than the dataset size; truncating to X.shape[0] - 1\n",
            "  warn(\n"
          ]
        },
        {
          "output_type": "stream",
          "name": "stdout",
          "text": [
            "calculando distancias\n",
            "(206, 206)\n",
            "done distance matrix\n",
            "knn\n",
            " knn done\n",
            " afinity matrix\n",
            " afinity matrix done\n",
            "imputation\n",
            "done\n",
            "done Mon May 20 20:22:00 2024\n"
          ]
        },
        {
          "output_type": "stream",
          "name": "stderr",
          "text": [
            "\rProcessing KNN values:  74%|███████▎  | 70/95 [06:28<03:10,  7.63s/it]/usr/local/lib/python3.10/dist-packages/umap/umap_.py:1945: UserWarning: n_jobs value 1 overridden to 1 by setting random_state. Use no seed for parallelism.\n",
            "  warn(f\"n_jobs value {self.n_jobs} overridden to 1 by setting random_state. Use no seed for parallelism.\")\n",
            "/usr/local/lib/python3.10/dist-packages/umap/umap_.py:2437: UserWarning: n_neighbors is larger than the dataset size; truncating to X.shape[0] - 1\n",
            "  warn(\n"
          ]
        },
        {
          "output_type": "stream",
          "name": "stdout",
          "text": [
            "calculando distancias\n",
            "(206, 206)\n",
            "done distance matrix\n",
            "knn\n",
            " knn done\n",
            " afinity matrix\n",
            " afinity matrix done\n",
            "imputation\n",
            "done\n",
            "done Mon May 20 20:22:06 2024\n"
          ]
        },
        {
          "output_type": "stream",
          "name": "stderr",
          "text": [
            "\rProcessing KNN values:  75%|███████▍  | 71/95 [06:34<02:50,  7.12s/it]/usr/local/lib/python3.10/dist-packages/umap/umap_.py:1945: UserWarning: n_jobs value 1 overridden to 1 by setting random_state. Use no seed for parallelism.\n",
            "  warn(f\"n_jobs value {self.n_jobs} overridden to 1 by setting random_state. Use no seed for parallelism.\")\n",
            "/usr/local/lib/python3.10/dist-packages/umap/umap_.py:2437: UserWarning: n_neighbors is larger than the dataset size; truncating to X.shape[0] - 1\n",
            "  warn(\n"
          ]
        },
        {
          "output_type": "stream",
          "name": "stdout",
          "text": [
            "calculando distancias\n",
            "(206, 206)\n",
            "done distance matrix\n",
            "knn\n",
            " knn done\n",
            " afinity matrix\n",
            " afinity matrix done\n",
            "imputation\n",
            "done\n",
            "done Mon May 20 20:22:12 2024\n"
          ]
        },
        {
          "output_type": "stream",
          "name": "stderr",
          "text": [
            "\rProcessing KNN values:  76%|███████▌  | 72/95 [06:40<02:34,  6.73s/it]/usr/local/lib/python3.10/dist-packages/umap/umap_.py:1945: UserWarning: n_jobs value 1 overridden to 1 by setting random_state. Use no seed for parallelism.\n",
            "  warn(f\"n_jobs value {self.n_jobs} overridden to 1 by setting random_state. Use no seed for parallelism.\")\n",
            "/usr/local/lib/python3.10/dist-packages/umap/umap_.py:2437: UserWarning: n_neighbors is larger than the dataset size; truncating to X.shape[0] - 1\n",
            "  warn(\n"
          ]
        },
        {
          "output_type": "stream",
          "name": "stdout",
          "text": [
            "calculando distancias\n",
            "(206, 206)\n",
            "done distance matrix\n",
            "knn\n",
            " knn done\n",
            " afinity matrix\n",
            " afinity matrix done\n",
            "imputation\n",
            "done\n",
            "done Mon May 20 20:22:17 2024\n"
          ]
        },
        {
          "output_type": "stream",
          "name": "stderr",
          "text": [
            "\rProcessing KNN values:  77%|███████▋  | 73/95 [06:45<02:18,  6.29s/it]/usr/local/lib/python3.10/dist-packages/umap/umap_.py:1945: UserWarning: n_jobs value 1 overridden to 1 by setting random_state. Use no seed for parallelism.\n",
            "  warn(f\"n_jobs value {self.n_jobs} overridden to 1 by setting random_state. Use no seed for parallelism.\")\n",
            "/usr/local/lib/python3.10/dist-packages/umap/umap_.py:2437: UserWarning: n_neighbors is larger than the dataset size; truncating to X.shape[0] - 1\n",
            "  warn(\n"
          ]
        },
        {
          "output_type": "stream",
          "name": "stdout",
          "text": [
            "calculando distancias\n",
            "(206, 206)\n",
            "done distance matrix\n",
            "knn\n",
            " knn done\n",
            " afinity matrix\n",
            " afinity matrix done\n",
            "imputation\n",
            "done\n",
            "done Mon May 20 20:22:24 2024\n"
          ]
        },
        {
          "output_type": "stream",
          "name": "stderr",
          "text": [
            "\rProcessing KNN values:  78%|███████▊  | 74/95 [06:52<02:16,  6.48s/it]/usr/local/lib/python3.10/dist-packages/umap/umap_.py:1945: UserWarning: n_jobs value 1 overridden to 1 by setting random_state. Use no seed for parallelism.\n",
            "  warn(f\"n_jobs value {self.n_jobs} overridden to 1 by setting random_state. Use no seed for parallelism.\")\n",
            "/usr/local/lib/python3.10/dist-packages/umap/umap_.py:2437: UserWarning: n_neighbors is larger than the dataset size; truncating to X.shape[0] - 1\n",
            "  warn(\n"
          ]
        },
        {
          "output_type": "stream",
          "name": "stdout",
          "text": [
            "calculando distancias\n",
            "(206, 206)\n",
            "done distance matrix\n",
            "knn\n",
            " knn done\n",
            " afinity matrix\n",
            " afinity matrix done\n",
            "imputation\n",
            "done\n",
            "done Mon May 20 20:22:31 2024\n"
          ]
        },
        {
          "output_type": "stream",
          "name": "stderr",
          "text": [
            "\rProcessing KNN values:  79%|███████▉  | 75/95 [07:00<02:13,  6.70s/it]/usr/local/lib/python3.10/dist-packages/umap/umap_.py:1945: UserWarning: n_jobs value 1 overridden to 1 by setting random_state. Use no seed for parallelism.\n",
            "  warn(f\"n_jobs value {self.n_jobs} overridden to 1 by setting random_state. Use no seed for parallelism.\")\n",
            "/usr/local/lib/python3.10/dist-packages/umap/umap_.py:2437: UserWarning: n_neighbors is larger than the dataset size; truncating to X.shape[0] - 1\n",
            "  warn(\n"
          ]
        },
        {
          "output_type": "stream",
          "name": "stdout",
          "text": [
            "calculando distancias\n",
            "(206, 206)\n",
            "done distance matrix\n",
            "knn\n",
            " knn done\n",
            " afinity matrix\n",
            " afinity matrix done\n",
            "imputation\n",
            "done\n",
            "done Mon May 20 20:22:38 2024\n"
          ]
        },
        {
          "output_type": "stream",
          "name": "stderr",
          "text": [
            "\rProcessing KNN values:  80%|████████  | 76/95 [07:07<02:08,  6.77s/it]/usr/local/lib/python3.10/dist-packages/umap/umap_.py:1945: UserWarning: n_jobs value 1 overridden to 1 by setting random_state. Use no seed for parallelism.\n",
            "  warn(f\"n_jobs value {self.n_jobs} overridden to 1 by setting random_state. Use no seed for parallelism.\")\n",
            "/usr/local/lib/python3.10/dist-packages/umap/umap_.py:2437: UserWarning: n_neighbors is larger than the dataset size; truncating to X.shape[0] - 1\n",
            "  warn(\n"
          ]
        },
        {
          "output_type": "stream",
          "name": "stdout",
          "text": [
            "calculando distancias\n",
            "(206, 206)\n",
            "done distance matrix\n",
            "knn\n",
            " knn done\n",
            " afinity matrix\n",
            " afinity matrix done\n",
            "imputation\n",
            "done\n",
            "done Mon May 20 20:22:44 2024\n"
          ]
        },
        {
          "output_type": "stream",
          "name": "stderr",
          "text": [
            "\rProcessing KNN values:  81%|████████  | 77/95 [07:13<01:57,  6.55s/it]/usr/local/lib/python3.10/dist-packages/umap/umap_.py:1945: UserWarning: n_jobs value 1 overridden to 1 by setting random_state. Use no seed for parallelism.\n",
            "  warn(f\"n_jobs value {self.n_jobs} overridden to 1 by setting random_state. Use no seed for parallelism.\")\n",
            "/usr/local/lib/python3.10/dist-packages/umap/umap_.py:2437: UserWarning: n_neighbors is larger than the dataset size; truncating to X.shape[0] - 1\n",
            "  warn(\n"
          ]
        },
        {
          "output_type": "stream",
          "name": "stdout",
          "text": [
            "calculando distancias\n",
            "(206, 206)\n",
            "done distance matrix\n",
            "knn\n",
            " knn done\n",
            " afinity matrix\n",
            " afinity matrix done\n",
            "imputation\n",
            "done\n",
            "done Mon May 20 20:22:50 2024\n"
          ]
        },
        {
          "output_type": "stream",
          "name": "stderr",
          "text": [
            "\rProcessing KNN values:  82%|████████▏ | 78/95 [07:18<01:45,  6.23s/it]/usr/local/lib/python3.10/dist-packages/umap/umap_.py:1945: UserWarning: n_jobs value 1 overridden to 1 by setting random_state. Use no seed for parallelism.\n",
            "  warn(f\"n_jobs value {self.n_jobs} overridden to 1 by setting random_state. Use no seed for parallelism.\")\n",
            "/usr/local/lib/python3.10/dist-packages/umap/umap_.py:2437: UserWarning: n_neighbors is larger than the dataset size; truncating to X.shape[0] - 1\n",
            "  warn(\n"
          ]
        },
        {
          "output_type": "stream",
          "name": "stdout",
          "text": [
            "calculando distancias\n",
            "(206, 206)\n",
            "done distance matrix\n",
            "knn\n",
            " knn done\n",
            " afinity matrix\n",
            " afinity matrix done\n",
            "imputation\n",
            "done\n",
            "done Mon May 20 20:22:56 2024\n"
          ]
        },
        {
          "output_type": "stream",
          "name": "stderr",
          "text": [
            "\rProcessing KNN values:  83%|████████▎ | 79/95 [07:24<01:39,  6.19s/it]/usr/local/lib/python3.10/dist-packages/umap/umap_.py:1945: UserWarning: n_jobs value 1 overridden to 1 by setting random_state. Use no seed for parallelism.\n",
            "  warn(f\"n_jobs value {self.n_jobs} overridden to 1 by setting random_state. Use no seed for parallelism.\")\n",
            "/usr/local/lib/python3.10/dist-packages/umap/umap_.py:2437: UserWarning: n_neighbors is larger than the dataset size; truncating to X.shape[0] - 1\n",
            "  warn(\n"
          ]
        },
        {
          "output_type": "stream",
          "name": "stdout",
          "text": [
            "calculando distancias\n",
            "(206, 206)\n",
            "done distance matrix\n",
            "knn\n",
            " knn done\n",
            " afinity matrix\n",
            " afinity matrix done\n",
            "imputation\n",
            "done\n",
            "done Mon May 20 20:23:02 2024\n"
          ]
        },
        {
          "output_type": "stream",
          "name": "stderr",
          "text": [
            "\rProcessing KNN values:  84%|████████▍ | 80/95 [07:30<01:30,  6.00s/it]/usr/local/lib/python3.10/dist-packages/umap/umap_.py:1945: UserWarning: n_jobs value 1 overridden to 1 by setting random_state. Use no seed for parallelism.\n",
            "  warn(f\"n_jobs value {self.n_jobs} overridden to 1 by setting random_state. Use no seed for parallelism.\")\n",
            "/usr/local/lib/python3.10/dist-packages/umap/umap_.py:2437: UserWarning: n_neighbors is larger than the dataset size; truncating to X.shape[0] - 1\n",
            "  warn(\n"
          ]
        },
        {
          "output_type": "stream",
          "name": "stdout",
          "text": [
            "calculando distancias\n",
            "(206, 206)\n",
            "done distance matrix\n",
            "knn\n",
            " knn done\n",
            " afinity matrix\n",
            " afinity matrix done\n",
            "imputation\n",
            "done\n",
            "done Mon May 20 20:23:07 2024\n"
          ]
        },
        {
          "output_type": "stream",
          "name": "stderr",
          "text": [
            "\rProcessing KNN values:  85%|████████▌ | 81/95 [07:36<01:23,  5.98s/it]/usr/local/lib/python3.10/dist-packages/umap/umap_.py:1945: UserWarning: n_jobs value 1 overridden to 1 by setting random_state. Use no seed for parallelism.\n",
            "  warn(f\"n_jobs value {self.n_jobs} overridden to 1 by setting random_state. Use no seed for parallelism.\")\n",
            "/usr/local/lib/python3.10/dist-packages/umap/umap_.py:2437: UserWarning: n_neighbors is larger than the dataset size; truncating to X.shape[0] - 1\n",
            "  warn(\n"
          ]
        },
        {
          "output_type": "stream",
          "name": "stdout",
          "text": [
            "calculando distancias\n",
            "(206, 206)\n",
            "done distance matrix\n",
            "knn\n",
            " knn done\n",
            " afinity matrix\n",
            " afinity matrix done\n",
            "imputation\n",
            "done\n",
            "done Mon May 20 20:23:13 2024\n"
          ]
        },
        {
          "output_type": "stream",
          "name": "stderr",
          "text": [
            "\rProcessing KNN values:  86%|████████▋ | 82/95 [07:41<01:14,  5.70s/it]/usr/local/lib/python3.10/dist-packages/umap/umap_.py:1945: UserWarning: n_jobs value 1 overridden to 1 by setting random_state. Use no seed for parallelism.\n",
            "  warn(f\"n_jobs value {self.n_jobs} overridden to 1 by setting random_state. Use no seed for parallelism.\")\n",
            "/usr/local/lib/python3.10/dist-packages/umap/umap_.py:2437: UserWarning: n_neighbors is larger than the dataset size; truncating to X.shape[0] - 1\n",
            "  warn(\n"
          ]
        },
        {
          "output_type": "stream",
          "name": "stdout",
          "text": [
            "calculando distancias\n",
            "(206, 206)\n",
            "done distance matrix\n",
            "knn\n",
            " knn done\n",
            " afinity matrix\n",
            " afinity matrix done\n",
            "imputation\n",
            "done\n",
            "done Mon May 20 20:23:18 2024\n"
          ]
        },
        {
          "output_type": "stream",
          "name": "stderr",
          "text": [
            "\rProcessing KNN values:  87%|████████▋ | 83/95 [07:46<01:06,  5.52s/it]/usr/local/lib/python3.10/dist-packages/umap/umap_.py:1945: UserWarning: n_jobs value 1 overridden to 1 by setting random_state. Use no seed for parallelism.\n",
            "  warn(f\"n_jobs value {self.n_jobs} overridden to 1 by setting random_state. Use no seed for parallelism.\")\n",
            "/usr/local/lib/python3.10/dist-packages/umap/umap_.py:2437: UserWarning: n_neighbors is larger than the dataset size; truncating to X.shape[0] - 1\n",
            "  warn(\n"
          ]
        },
        {
          "output_type": "stream",
          "name": "stdout",
          "text": [
            "calculando distancias\n",
            "(206, 206)\n",
            "done distance matrix\n",
            "knn\n",
            " knn done\n",
            " afinity matrix\n",
            " afinity matrix done\n",
            "imputation\n",
            "done\n",
            "done Mon May 20 20:23:24 2024\n"
          ]
        },
        {
          "output_type": "stream",
          "name": "stderr",
          "text": [
            "\rProcessing KNN values:  88%|████████▊ | 84/95 [07:52<01:03,  5.79s/it]/usr/local/lib/python3.10/dist-packages/umap/umap_.py:1945: UserWarning: n_jobs value 1 overridden to 1 by setting random_state. Use no seed for parallelism.\n",
            "  warn(f\"n_jobs value {self.n_jobs} overridden to 1 by setting random_state. Use no seed for parallelism.\")\n",
            "/usr/local/lib/python3.10/dist-packages/umap/umap_.py:2437: UserWarning: n_neighbors is larger than the dataset size; truncating to X.shape[0] - 1\n",
            "  warn(\n"
          ]
        },
        {
          "output_type": "stream",
          "name": "stdout",
          "text": [
            "calculando distancias\n",
            "(206, 206)\n",
            "done distance matrix\n",
            "knn\n",
            " knn done\n",
            " afinity matrix\n",
            " afinity matrix done\n",
            "imputation\n",
            "done\n",
            "done Mon May 20 20:23:30 2024\n"
          ]
        },
        {
          "output_type": "stream",
          "name": "stderr",
          "text": [
            "\rProcessing KNN values:  89%|████████▉ | 85/95 [07:58<00:57,  5.70s/it]/usr/local/lib/python3.10/dist-packages/umap/umap_.py:1945: UserWarning: n_jobs value 1 overridden to 1 by setting random_state. Use no seed for parallelism.\n",
            "  warn(f\"n_jobs value {self.n_jobs} overridden to 1 by setting random_state. Use no seed for parallelism.\")\n",
            "/usr/local/lib/python3.10/dist-packages/umap/umap_.py:2437: UserWarning: n_neighbors is larger than the dataset size; truncating to X.shape[0] - 1\n",
            "  warn(\n"
          ]
        },
        {
          "output_type": "stream",
          "name": "stdout",
          "text": [
            "calculando distancias\n",
            "(206, 206)\n",
            "done distance matrix\n",
            "knn\n",
            " knn done\n",
            " afinity matrix\n",
            " afinity matrix done\n",
            "imputation\n",
            "done\n",
            "done Mon May 20 20:23:34 2024\n"
          ]
        },
        {
          "output_type": "stream",
          "name": "stderr",
          "text": [
            "\rProcessing KNN values:  91%|█████████ | 86/95 [08:03<00:49,  5.53s/it]/usr/local/lib/python3.10/dist-packages/umap/umap_.py:1945: UserWarning: n_jobs value 1 overridden to 1 by setting random_state. Use no seed for parallelism.\n",
            "  warn(f\"n_jobs value {self.n_jobs} overridden to 1 by setting random_state. Use no seed for parallelism.\")\n",
            "/usr/local/lib/python3.10/dist-packages/umap/umap_.py:2437: UserWarning: n_neighbors is larger than the dataset size; truncating to X.shape[0] - 1\n",
            "  warn(\n"
          ]
        },
        {
          "output_type": "stream",
          "name": "stdout",
          "text": [
            "calculando distancias\n",
            "(206, 206)\n",
            "done distance matrix\n",
            "knn\n",
            " knn done\n",
            " afinity matrix\n",
            " afinity matrix done\n",
            "imputation\n",
            "done\n",
            "done Mon May 20 20:23:41 2024\n"
          ]
        },
        {
          "output_type": "stream",
          "name": "stderr",
          "text": [
            "\rProcessing KNN values:  92%|█████████▏| 87/95 [08:09<00:44,  5.61s/it]/usr/local/lib/python3.10/dist-packages/umap/umap_.py:1945: UserWarning: n_jobs value 1 overridden to 1 by setting random_state. Use no seed for parallelism.\n",
            "  warn(f\"n_jobs value {self.n_jobs} overridden to 1 by setting random_state. Use no seed for parallelism.\")\n",
            "/usr/local/lib/python3.10/dist-packages/umap/umap_.py:2437: UserWarning: n_neighbors is larger than the dataset size; truncating to X.shape[0] - 1\n",
            "  warn(\n"
          ]
        },
        {
          "output_type": "stream",
          "name": "stdout",
          "text": [
            "calculando distancias\n",
            "(206, 206)\n",
            "done distance matrix\n",
            "knn\n",
            " knn done\n",
            " afinity matrix\n",
            " afinity matrix done\n",
            "imputation\n",
            "done\n",
            "done Mon May 20 20:23:46 2024\n"
          ]
        },
        {
          "output_type": "stream",
          "name": "stderr",
          "text": [
            "\rProcessing KNN values:  93%|█████████▎| 88/95 [08:14<00:38,  5.46s/it]/usr/local/lib/python3.10/dist-packages/umap/umap_.py:1945: UserWarning: n_jobs value 1 overridden to 1 by setting random_state. Use no seed for parallelism.\n",
            "  warn(f\"n_jobs value {self.n_jobs} overridden to 1 by setting random_state. Use no seed for parallelism.\")\n",
            "/usr/local/lib/python3.10/dist-packages/umap/umap_.py:2437: UserWarning: n_neighbors is larger than the dataset size; truncating to X.shape[0] - 1\n",
            "  warn(\n"
          ]
        },
        {
          "output_type": "stream",
          "name": "stdout",
          "text": [
            "calculando distancias\n",
            "(206, 206)\n",
            "done distance matrix\n",
            "knn\n",
            " knn done\n",
            " afinity matrix\n",
            " afinity matrix done\n",
            "imputation\n",
            "done\n",
            "done Mon May 20 20:23:51 2024\n"
          ]
        },
        {
          "output_type": "stream",
          "name": "stderr",
          "text": [
            "\rProcessing KNN values:  94%|█████████▎| 89/95 [08:19<00:33,  5.52s/it]/usr/local/lib/python3.10/dist-packages/umap/umap_.py:1945: UserWarning: n_jobs value 1 overridden to 1 by setting random_state. Use no seed for parallelism.\n",
            "  warn(f\"n_jobs value {self.n_jobs} overridden to 1 by setting random_state. Use no seed for parallelism.\")\n",
            "/usr/local/lib/python3.10/dist-packages/umap/umap_.py:2437: UserWarning: n_neighbors is larger than the dataset size; truncating to X.shape[0] - 1\n",
            "  warn(\n"
          ]
        },
        {
          "output_type": "stream",
          "name": "stdout",
          "text": [
            "calculando distancias\n",
            "(206, 206)\n",
            "done distance matrix\n",
            "knn\n",
            " knn done\n",
            " afinity matrix\n",
            " afinity matrix done\n",
            "imputation\n",
            "done\n",
            "done Mon May 20 20:23:57 2024\n"
          ]
        },
        {
          "output_type": "stream",
          "name": "stderr",
          "text": [
            "\rProcessing KNN values:  95%|█████████▍| 90/95 [08:25<00:28,  5.66s/it]/usr/local/lib/python3.10/dist-packages/umap/umap_.py:1945: UserWarning: n_jobs value 1 overridden to 1 by setting random_state. Use no seed for parallelism.\n",
            "  warn(f\"n_jobs value {self.n_jobs} overridden to 1 by setting random_state. Use no seed for parallelism.\")\n",
            "/usr/local/lib/python3.10/dist-packages/umap/umap_.py:2437: UserWarning: n_neighbors is larger than the dataset size; truncating to X.shape[0] - 1\n",
            "  warn(\n"
          ]
        },
        {
          "output_type": "stream",
          "name": "stdout",
          "text": [
            "calculando distancias\n",
            "(206, 206)\n",
            "done distance matrix\n",
            "knn\n",
            " knn done\n",
            " afinity matrix\n",
            " afinity matrix done\n",
            "imputation\n",
            "done\n",
            "done Mon May 20 20:24:03 2024\n"
          ]
        },
        {
          "output_type": "stream",
          "name": "stderr",
          "text": [
            "\rProcessing KNN values:  96%|█████████▌| 91/95 [08:31<00:22,  5.73s/it]/usr/local/lib/python3.10/dist-packages/umap/umap_.py:1945: UserWarning: n_jobs value 1 overridden to 1 by setting random_state. Use no seed for parallelism.\n",
            "  warn(f\"n_jobs value {self.n_jobs} overridden to 1 by setting random_state. Use no seed for parallelism.\")\n",
            "/usr/local/lib/python3.10/dist-packages/umap/umap_.py:2437: UserWarning: n_neighbors is larger than the dataset size; truncating to X.shape[0] - 1\n",
            "  warn(\n"
          ]
        },
        {
          "output_type": "stream",
          "name": "stdout",
          "text": [
            "calculando distancias\n",
            "(206, 206)\n",
            "done distance matrix\n",
            "knn\n",
            " knn done\n",
            " afinity matrix\n",
            " afinity matrix done\n",
            "imputation\n",
            "done\n",
            "done Mon May 20 20:24:09 2024\n"
          ]
        },
        {
          "output_type": "stream",
          "name": "stderr",
          "text": [
            "\rProcessing KNN values:  97%|█████████▋| 92/95 [08:38<00:17,  5.93s/it]/usr/local/lib/python3.10/dist-packages/umap/umap_.py:1945: UserWarning: n_jobs value 1 overridden to 1 by setting random_state. Use no seed for parallelism.\n",
            "  warn(f\"n_jobs value {self.n_jobs} overridden to 1 by setting random_state. Use no seed for parallelism.\")\n",
            "/usr/local/lib/python3.10/dist-packages/umap/umap_.py:2437: UserWarning: n_neighbors is larger than the dataset size; truncating to X.shape[0] - 1\n",
            "  warn(\n"
          ]
        },
        {
          "output_type": "stream",
          "name": "stdout",
          "text": [
            "calculando distancias\n",
            "(206, 206)\n",
            "done distance matrix\n",
            "knn\n",
            " knn done\n",
            " afinity matrix\n",
            " afinity matrix done\n",
            "imputation\n",
            "done\n",
            "done Mon May 20 20:24:15 2024\n"
          ]
        },
        {
          "output_type": "stream",
          "name": "stderr",
          "text": [
            "\rProcessing KNN values:  98%|█████████▊| 93/95 [08:43<00:11,  5.65s/it]/usr/local/lib/python3.10/dist-packages/umap/umap_.py:1945: UserWarning: n_jobs value 1 overridden to 1 by setting random_state. Use no seed for parallelism.\n",
            "  warn(f\"n_jobs value {self.n_jobs} overridden to 1 by setting random_state. Use no seed for parallelism.\")\n",
            "/usr/local/lib/python3.10/dist-packages/umap/umap_.py:2437: UserWarning: n_neighbors is larger than the dataset size; truncating to X.shape[0] - 1\n",
            "  warn(\n"
          ]
        },
        {
          "output_type": "stream",
          "name": "stdout",
          "text": [
            "calculando distancias\n",
            "(206, 206)\n",
            "done distance matrix\n",
            "knn\n",
            " knn done\n",
            " afinity matrix\n",
            " afinity matrix done\n",
            "imputation\n",
            "done\n",
            "done Mon May 20 20:24:19 2024\n"
          ]
        },
        {
          "output_type": "stream",
          "name": "stderr",
          "text": [
            "\rProcessing KNN values:  99%|█████████▉| 94/95 [08:48<00:05,  5.49s/it]/usr/local/lib/python3.10/dist-packages/umap/umap_.py:1945: UserWarning: n_jobs value 1 overridden to 1 by setting random_state. Use no seed for parallelism.\n",
            "  warn(f\"n_jobs value {self.n_jobs} overridden to 1 by setting random_state. Use no seed for parallelism.\")\n",
            "/usr/local/lib/python3.10/dist-packages/umap/umap_.py:2437: UserWarning: n_neighbors is larger than the dataset size; truncating to X.shape[0] - 1\n",
            "  warn(\n"
          ]
        },
        {
          "output_type": "stream",
          "name": "stdout",
          "text": [
            "calculando distancias\n",
            "(206, 206)\n",
            "done distance matrix\n",
            "knn\n",
            " knn done\n",
            " afinity matrix\n",
            " afinity matrix done\n",
            "imputation\n",
            "done\n",
            "done Mon May 20 20:24:26 2024\n"
          ]
        },
        {
          "output_type": "stream",
          "name": "stderr",
          "text": [
            "Processing KNN values: 100%|██████████| 95/95 [08:54<00:00,  5.62s/it]\n"
          ]
        },
        {
          "output_type": "stream",
          "name": "stdout",
          "text": [
            "Results saved to analysis_results_t5_knn5-99_d5_seed62_por80_npca190.xlsx\n",
            "      Method Parameter Value   Pearson  Spearman        R2\n",
            "0  sc-PHENIX       KNN     5  0.175500  0.437043  0.030800\n",
            "1  sc-PHENIX       KNN     5  0.290030  0.499190  0.084117\n",
            "2  sc-PHENIX       KNN     5  0.226077  0.520667  0.051111\n",
            "3  sc-PHENIX       KNN     5  0.234612  0.520884  0.055043\n",
            "4  sc-PHENIX       KNN     5  0.353987  0.552830  0.125307\n"
          ]
        },
        {
          "output_type": "display_data",
          "data": {
            "text/plain": [
              "<Figure size 1800x600 with 3 Axes>"
            ],
            "image/png": "[encoded data removed]"
          },
          "metadata": {}
        }
      ],
      "source": [
        "import pandas as pd\n",
        "import numpy as np\n",
        "import magic\n",
        "import umap\n",
        "from sc_PHENIX import sc_PHENIX\n",
        "from scipy.stats import spearmanr\n",
        "from sklearn.metrics import auc\n",
        "from sklearn.manifold import SpectralEmbedding\n",
        "from tqdm import tqdm  # Añadir barra de progreso\n",
        "import matplotlib.pyplot as plt\n",
        "import seaborn as sns\n",
        "\n",
        "def insertar_ceros_aleatorios(real, porcentaje, semilla):\n",
        "    np.random.seed(semilla)\n",
        "    dropout = real.copy()\n",
        "    mask = np.random.rand(*dropout.shape) < (porcentaje / 100.0)\n",
        "    dropout[mask] = 0\n",
        "    return dropout\n",
        "\n",
        "def run_analysis(real=None, porcentaje=80, seed=62, t=5, knn_range=range(5, 10), decay=5, npca=20):\n",
        "    np.random.seed(seed)\n",
        "\n",
        "    # Asumiendo que `insertar_ceros_aleatorios` es una función definida para introducir dropout\n",
        "    dropout = insertar_ceros_aleatorios(real, porcentaje=porcentaje, semilla=seed)\n",
        "    real = real.to_numpy()  # Convertir el DataFrame de pandas a un array de numpy si aún no lo es\n",
        "\n",
        "    # DataFrame para almacenar los resultados\n",
        "    results = pd.DataFrame(columns=['Method', 'Parameter', 'Value', 'Pearson', 'Spearman', 'R2'])\n",
        "\n",
        "    for knn in tqdm(knn_range, desc='Processing KNN values'):\n",
        "        # Configurar y aplicar Laplacian Eigenmaps\n",
        "        laplacian = SpectralEmbedding(n_components=npca, n_neighbors=knn, random_state=1)\n",
        "        le_data = laplacian.fit_transform(dropout)\n",
        "\n",
        "        # Configurar y aplicar sc-PHENIX\n",
        "        umap_fit = umap.UMAP(n_components=30, n_epochs=50, n_neighbors=220, negative_sample_rate=100, metric='cosine', random_state=1)\n",
        "        u_no_3 = umap_fit.fit_transform(le_data)\n",
        "        imputed_phenix = sc_PHENIX(dropout, u_no_3, t=t, knn=knn, decay=decay)\n",
        "\n",
        "        # Calcular métricas para sc-PHENIX\n",
        "        new_rows = []\n",
        "        for i in range(imputed_phenix.shape[0]):  # Asumiendo que imputed_phenix es un DataFrame\n",
        "            real_sample = real[i, :]\n",
        "            imputed_sample = imputed_phenix.iloc[i, :].to_numpy()  # Convertir la fila del DataFrame a numpy\n",
        "            pearson = np.corrcoef(real_sample, imputed_sample)[0, 1]\n",
        "            spearman = spearmanr(real_sample, imputed_sample).correlation\n",
        "            r2 = pearson**2\n",
        "            new_rows.append({'Method': 'sc-PHENIX', 'Parameter': 'KNN', 'Value': knn, 'Pearson': pearson, 'Spearman': spearman, 'R2': r2})\n",
        "\n",
        "        results = pd.concat([results, pd.DataFrame(new_rows)], ignore_index=True)\n",
        "\n",
        "    # Construyendo el nombre del archivo basado en todos los argumentos\n",
        "    filename = f\"analysis_results_t{t}_knn{knn_range.start}-{knn_range.stop-1}_d{decay}_seed{seed}_por{porcentaje}_npca{npca}.xlsx\"\n",
        "    results.to_excel(filename, index=False)\n",
        "    print(f\"Results saved to {filename}\")\n",
        "\n",
        "    return results\n",
        "\n",
        "# Ejemplo de uso de la función con datos simulados\n",
        "real_data =TrueEXpre # Datos simulados\n",
        "results = run_analysis(real=real_data, porcentaje=80, seed=62, t=5, knn_range=range(5, 100), decay=5, npca=190)\n",
        "print(results.head())\n",
        "\n",
        "# Función para calcular el área bajo la curva\n",
        "def calculate_auc(results, metric):\n",
        "    methods = results['Method'].unique()\n",
        "    auc_values = {}\n",
        "    for method in methods:\n",
        "        method_data = results[results['Method'] == method]\n",
        "        x = method_data['Value']\n",
        "        y = method_data[metric]\n",
        "        auc_values[method] = auc(x, y)\n",
        "    return auc_values\n",
        "\n",
        "# Calcular AUC para cada métrica\n",
        "auc_pearson = calculate_auc(results, 'Pearson')\n",
        "auc_spearman = calculate_auc(results, 'Spearman')\n",
        "auc_r2 = calculate_auc(results, 'R2')\n",
        "\n",
        "# Mostrar los resultados en el gráfico\n",
        "plt.figure(figsize=(18, 6))\n",
        "\n",
        "# Subplot for Pearson correlation\n",
        "plt.subplot(1, 3, 1)\n",
        "sns.lineplot(data=results, x='Value', y='Pearson', hue='Method', marker='o')\n",
        "plt.title('Pearson Correlation vs KNN')\n",
        "plt.xlabel('Number of KNN')\n",
        "plt.ylabel('Pearson Correlation')\n",
        "for i, (method, auc_value) in enumerate(auc_pearson.items()):\n",
        "    plt.text(0.95, 0.05 + i*0.05, f'{method} AUC: {auc_value:.2f}', ha='right', transform=plt.gca().transAxes)\n",
        "\n",
        "# Subplot for Spearman correlation\n",
        "plt.subplot(1, 3, 2)\n",
        "sns.lineplot(data=results, x='Value', y='Spearman', hue='Method', marker='o')\n",
        "plt.title('Spearman Correlation vs KNN')\n",
        "plt.xlabel('Number of KNN')\n",
        "plt.ylabel('Spearman Correlation')\n",
        "for i, (method, auc_value) in enumerate(auc_spearman.items()):\n",
        "    plt.text(0.95, 0.05 + i*0.05, f'{method} AUC: {auc_value:.2f}', ha='right', transform=plt.gca().transAxes)\n",
        "\n",
        "# Subplot for R2 Score\n",
        "plt.subplot(1, 3, 3)\n",
        "sns.lineplot(data=results, x='Value', y='R2', hue='Method', marker='o')\n",
        "plt.title('R2 Score vs KNN')\n",
        "plt.xlabel('Number of KNN')\n",
        "plt.ylabel('R2 Score')\n",
        "for i, (method, auc_value) in enumerate(auc_r2.items()):\n",
        "    plt.text(0.95, 0.05 + i*0.05, f'{method} AUC: {auc_value:.2f}', ha='right', transform=plt.gca().transAxes)\n",
        "\n",
        "plt.tight_layout()\n",
        "plt.show()\n",
        "\n"
      ]
    },
    {
      "cell_type": "markdown",
      "source": [
        "dont use the previus visualizacion ROC is bad calculated the next code is the correct onw"
      ],
      "metadata": {
        "id": "BA0xsTPziVW0"
      }
    },
    {
      "cell_type": "code",
      "source": [
        "results_new = results.copy()\n",
        "\n",
        "\n",
        "# Calculate the mean for each metric\n",
        "mean_pearson = results_new.groupby('Method')['Pearson'].mean()\n",
        "mean_spearman = results_new.groupby('Method')['Spearman'].mean()\n",
        "mean_r2 = results_new.groupby('Method')['R2'].mean()\n",
        "\n",
        "\n",
        "import matplotlib.pyplot as plt\n",
        "import seaborn as sns\n",
        "from sklearn.metrics import auc\n",
        "\n",
        "# Function to calculate and normalize AUC for the mean values of each method and plot the area under the curve\n",
        "# with PCA components scaled to [0, 1] on the x-axis but keeping the original x-axis labels using seaborn\n",
        "def calculate_auc_scaled(results):\n",
        "    metrics = ['Pearson', 'Spearman', 'R2']\n",
        "    auc_values = {metric: {} for metric in metrics}\n",
        "    for metric in metrics:\n",
        "        for method in results['Method'].unique():\n",
        "            method_data = results[results['Method'] == method]\n",
        "            mean_values = method_data.groupby('Value')[metric].mean()\n",
        "            original_x = mean_values.index.values.astype(float)\n",
        "            y = mean_values.values.astype(float)\n",
        "\n",
        "            # Normalize x values to [0, 1]\n",
        "            x_normalized = (original_x - original_x.min()) / (original_x.max() - original_x.min())\n",
        "\n",
        "            # y values are already normalized\n",
        "            y_normalized = y\n",
        "\n",
        "            # Calculate AUC\n",
        "            auc_value = auc(x_normalized, y_normalized)\n",
        "            auc_values[metric][method] = auc_value\n",
        "    return auc_values\n",
        "\n",
        "# Calculate AUC for each metric over the full range using the scaled method\n",
        "scaled_auc_values = calculate_auc_scaled(results_new)\n",
        "\n",
        "# Calculate mean values for the methods to use in the legend\n",
        "mean_pearson = results_new.groupby('Method')['Pearson'].mean()\n",
        "mean_spearman = results_new.groupby('Method')['Spearman'].mean()\n",
        "mean_r2 = results_new.groupby('Method')['R2'].mean()\n",
        "\n",
        "# Plot the original visualization with the scaled AUC values and the adjusted legend\n",
        "plt.figure(figsize=(18, 6))\n",
        "\n",
        "# Subplot for Pearson correlation\n",
        "plt.subplot(1, 3, 1)\n",
        "sns.lineplot(data=results_new, x='Value', y='Pearson', hue='Method', marker='o', estimator='mean', ci=95)\n",
        "plt.title('Pearson Correlation vs knn')\n",
        "plt.xlabel('Number of knn for eigenmaps')\n",
        "plt.ylabel('Pearson Correlation')\n",
        "\n",
        "\n",
        "\n",
        "for i, (method, auc_value) in enumerate(scaled_auc_values['Pearson'].items()):\n",
        "    plt.text(0.95, 0.05 + i * 0.05, f'{method} AUC: {auc_value:.2f}', ha='right', va='bottom', transform=plt.gca().transAxes)\n",
        "# Add mean lines without adding to legend\n",
        "for method in mean_pearson.index:\n",
        "    plt.axhline(mean_pearson[method], linestyle='--', color=sns.color_palette()[0 if method == 'MAGIC' else 1], label=f'{method} Mean')\n",
        "# Manually adjust the legend to not include the mean lines\n",
        "handles, labels = plt.gca().get_legend_handles_labels()\n",
        "by_label = dict(zip(labels, handles))\n",
        "new_handles = [by_label[label] for label in by_label if 'Mean' not in label]\n",
        "new_labels = [label for label in by_label if 'Mean' not in label]\n",
        "plt.legend(new_handles, new_labels)\n",
        "\n",
        "# Subplot for Spearman correlation\n",
        "plt.subplot(1, 3, 2)\n",
        "sns.lineplot(data=results_new, x='Value', y='Spearman', hue='Method', marker='o', estimator='mean', ci=95)\n",
        "plt.title('Spearman vs knn')\n",
        "plt.xlabel('Number of knn for eigenmaps')\n",
        "plt.ylabel('Spearman Score')\n",
        "for i, (method, auc_value) in enumerate(scaled_auc_values['Spearman'].items()):\n",
        "    plt.text(0.95, 0.05 + i * 0.05, f'{method} AUC: {auc_value:.2f}', ha='right', va='bottom', transform=plt.gca().transAxes)\n",
        "# Add mean lines without adding to legend\n",
        "for method in mean_spearman.index:\n",
        "    plt.axhline(mean_spearman[method], linestyle='--', color=sns.color_palette()[0 if method == 'MAGIC' else 1], label=f'{method} Mean')\n",
        "# Manually adjust the legend to not include the mean lines\n",
        "handles, labels = plt.gca().get_legend_handles_labels()\n",
        "by_label = dict(zip(labels, handles))\n",
        "new_handles = [by_label[label] for label in by_label if 'Mean' not in label]\n",
        "new_labels = [label for label in by_label if 'Mean' not in label]\n",
        "plt.legend(new_handles, new_labels)\n",
        "\n",
        "# Subplot for R2 Score\n",
        "plt.subplot(1, 3, 3)\n",
        "sns.lineplot(data=results_new, x='Value', y='R2', hue='Method', marker='o', estimator='mean', ci=95)\n",
        "plt.title('R2 Score vs knn')\n",
        "plt.xlabel('Number of knn for eigenmaps')\n",
        "plt.ylabel('R2 Score')\n",
        "for i, (method, auc_value) in enumerate(scaled_auc_values['R2'].items()):\n",
        "    plt.text(0.95, 0.05 + i * 0.05, f'{method} AUC: {auc_value:.2f}', ha='right', va='bottom', transform=plt.gca().transAxes)\n",
        "# Add mean lines without adding to legend\n",
        "for method in mean_r2.index:\n",
        "    plt.axhline(mean_r2[method], linestyle='--', color=sns.color_palette()[0 if method == 'MAGIC' else 1], label=f'{method} Mean')\n",
        "# Manually adjust the legend to not include the mean lines\n",
        "handles, labels = plt.gca().get_legend_handles_labels()\n",
        "by_label = dict(zip(labels, handles))\n",
        "new_handles = [by_label[label] for label in by_label if 'Mean' not in label]\n",
        "new_labels = [label for label in by_label if 'Mean' not in label]\n",
        "plt.legend(new_handles, new_labels)\n",
        "\n",
        "plt.tight_layout()\n",
        "plt.show()\n",
        "\n"
      ],
      "metadata": {
        "colab": {
          "base_uri": "https://localhost:8080/",
          "height": 687
        },
        "id": "NuIyycWi7ELj",
        "outputId": "7117f25d-7222-4be4-8cc6-12ce9d78dde1"
      },
      "execution_count": 19,
      "outputs": [
        {
          "output_type": "stream",
          "name": "stderr",
          "text": [
            "<ipython-input-19-d7827af945cf>:50: FutureWarning: \n",
            "\n",
            "The `ci` parameter is deprecated. Use `errorbar=('ci', 95)` for the same effect.\n",
            "\n",
            "  sns.lineplot(data=results_new, x='Value', y='Pearson', hue='Method', marker='o', estimator='mean', ci=95)\n",
            "<ipython-input-19-d7827af945cf>:71: FutureWarning: \n",
            "\n",
            "The `ci` parameter is deprecated. Use `errorbar=('ci', 95)` for the same effect.\n",
            "\n",
            "  sns.lineplot(data=results_new, x='Value', y='Spearman', hue='Method', marker='o', estimator='mean', ci=95)\n",
            "<ipython-input-19-d7827af945cf>:89: FutureWarning: \n",
            "\n",
            "The `ci` parameter is deprecated. Use `errorbar=('ci', 95)` for the same effect.\n",
            "\n",
            "  sns.lineplot(data=results_new, x='Value', y='R2', hue='Method', marker='o', estimator='mean', ci=95)\n"
          ]
        },
        {
          "output_type": "display_data",
          "data": {
            "text/plain": [
              "<Figure size 1800x600 with 3 Axes>"
            ],
            "image/png": "[encoded data removed]"
          },
          "metadata": {}
        }
      ]
    },
    {
      "cell_type": "code",
      "execution_count": null,
      "metadata": {
        "id": "V52Mx0lne42a"
      },
      "outputs": [],
      "source": []
    },
    {
      "cell_type": "code",
      "execution_count": null,
      "metadata": {
        "id": "ebtoR_koe4z0"
      },
      "outputs": [],
      "source": []
    },
    {
      "cell_type": "code",
      "execution_count": null,
      "metadata": {
        "id": "5IwlzMD_e4xM"
      },
      "outputs": [],
      "source": []
    },
    {
      "cell_type": "code",
      "execution_count": null,
      "metadata": {
        "id": "dkGZZI47e4uc"
      },
      "outputs": [],
      "source": []
    },
    {
      "cell_type": "code",
      "execution_count": null,
      "metadata": {
        "id": "KZAWbdMEe4r-"
      },
      "outputs": [],
      "source": []
    },
    {
      "cell_type": "code",
      "execution_count": null,
      "metadata": {
        "id": "JiHwpyIwMIkn"
      },
      "outputs": [],
      "source": []
    },
    {
      "cell_type": "code",
      "execution_count": null,
      "metadata": {
        "id": "bMpaaT89MIoP"
      },
      "outputs": [],
      "source": []
    },
    {
      "cell_type": "code",
      "execution_count": null,
      "metadata": {
        "id": "W9DH8bmRMIrY"
      },
      "outputs": [],
      "source": []
    },
    {
      "cell_type": "code",
      "execution_count": null,
      "metadata": {
        "id": "x3ntjmL5MIuw"
      },
      "outputs": [],
      "source": []
    },
    {
      "cell_type": "code",
      "execution_count": null,
      "metadata": {
        "id": "_VYOxvTzMIyK"
      },
      "outputs": [],
      "source": []
    },
    {
      "cell_type": "code",
      "execution_count": null,
      "metadata": {
        "id": "n3YQ9LvcMI1L"
      },
      "outputs": [],
      "source": []
    },
    {
      "cell_type": "code",
      "execution_count": null,
      "metadata": {
        "id": "BbcAvc_nE0Be"
      },
      "outputs": [],
      "source": []
    }
  ],
  "metadata": {
    "colab": {
      "provenance": []
    },
    "kernelspec": {
      "display_name": "Python 3",
      "name": "python3"
    },
    "language_info": {
      "name": "python"
    }
  },
  "nbformat": 4,
  "nbformat_minor": 0
}